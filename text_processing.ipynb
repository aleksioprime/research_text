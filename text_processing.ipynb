{
 "cells": [
  {
   "cell_type": "markdown",
   "id": "2eaec88e",
   "metadata": {},
   "source": [
    "# Обработка текста"
   ]
  },
  {
   "cell_type": "markdown",
   "id": "8d3d7135",
   "metadata": {},
   "source": [
    "Предварительная обработка текстовых данных\n",
    "\n",
    "- преобразование в нижний регистр;\n",
    "- удаление знаков препинания;\n",
    "- удаление стоп-слов;\n",
    "- токенизация корпуса;\n",
    "- стемминг – замена слова на его неизменяемую при склонении часть;\n",
    "- лемматизация — приведение словоформы к лемме — нормальной словарной форме."
   ]
  },
  {
   "cell_type": "code",
   "execution_count": 5,
   "id": "d95f113c-aed1-4ad6-8cba-1bd42d8cb11f",
   "metadata": {},
   "outputs": [
    {
     "name": "stdout",
     "output_type": "stream",
     "text": [
      "Python 3.9.19\n",
      "Requirement already satisfied: nltk in /opt/anaconda3/envs/analyze/lib/python3.9/site-packages (3.8.1)\n",
      "Requirement already satisfied: click in /opt/anaconda3/envs/analyze/lib/python3.9/site-packages (from nltk) (8.1.7)\n",
      "Requirement already satisfied: joblib in /opt/anaconda3/envs/analyze/lib/python3.9/site-packages (from nltk) (1.4.2)\n",
      "Requirement already satisfied: regex>=2021.8.3 in /opt/anaconda3/envs/analyze/lib/python3.9/site-packages (from nltk) (2024.5.15)\n",
      "Requirement already satisfied: tqdm in /opt/anaconda3/envs/analyze/lib/python3.9/site-packages (from nltk) (4.66.4)\n",
      "Collecting pymystem3\n",
      "  Using cached pymystem3-0.2.0-py3-none-any.whl.metadata (5.5 kB)\n",
      "Requirement already satisfied: requests in /opt/anaconda3/envs/analyze/lib/python3.9/site-packages (from pymystem3) (2.32.2)\n",
      "Requirement already satisfied: charset-normalizer<4,>=2 in /opt/anaconda3/envs/analyze/lib/python3.9/site-packages (from requests->pymystem3) (2.0.4)\n",
      "Requirement already satisfied: idna<4,>=2.5 in /opt/anaconda3/envs/analyze/lib/python3.9/site-packages (from requests->pymystem3) (3.7)\n",
      "Requirement already satisfied: urllib3<3,>=1.21.1 in /opt/anaconda3/envs/analyze/lib/python3.9/site-packages (from requests->pymystem3) (2.2.1)\n",
      "Requirement already satisfied: certifi>=2017.4.17 in /opt/anaconda3/envs/analyze/lib/python3.9/site-packages (from requests->pymystem3) (2024.2.2)\n",
      "Using cached pymystem3-0.2.0-py3-none-any.whl (10 kB)\n",
      "Installing collected packages: pymystem3\n",
      "Successfully installed pymystem3-0.2.0\n"
     ]
    }
   ],
   "source": [
    "!python --version\n",
    "!pip install nltk\n",
    "!pip install pymystem3"
   ]
  },
  {
   "cell_type": "code",
   "execution_count": 6,
   "id": "50aab2e6",
   "metadata": {},
   "outputs": [
    {
     "name": "stderr",
     "output_type": "stream",
     "text": [
      "[nltk_data] Downloading package stopwords to\n",
      "[nltk_data]     /Users/aleksioprime/nltk_data...\n",
      "[nltk_data]   Package stopwords is already up-to-date!\n"
     ]
    }
   ],
   "source": [
    "import re\n",
    "import string\n",
    "\n",
    "import nltk\n",
    "nltk.download('stopwords')\n",
    "\n",
    "from nltk.corpus import stopwords\n",
    "from nltk.stem.snowball import SnowballStemmer\n",
    "from pymystem3 import Mystem\n"
   ]
  },
  {
   "cell_type": "markdown",
   "id": "2fcb6796",
   "metadata": {},
   "source": [
    "### Ввод текста"
   ]
  },
  {
   "cell_type": "code",
   "execution_count": 7,
   "id": "22e06d78",
   "metadata": {},
   "outputs": [],
   "source": [
    "text = \"\"\"\n",
    "    Python - это простой в использовании, но мощный в своих возможностях язык программирования. \n",
    "    Он широко используется для веб-разработки, научных вычислений, искусственного интеллекта и многого другого.\n",
    "    \"\"\""
   ]
  },
  {
   "cell_type": "markdown",
   "id": "36b21e76",
   "metadata": {},
   "source": [
    "### Преобразование в нижний регистр"
   ]
  },
  {
   "cell_type": "code",
   "execution_count": 8,
   "id": "be52fb24",
   "metadata": {},
   "outputs": [
    {
     "name": "stdout",
     "output_type": "stream",
     "text": [
      "\n",
      "    python - это простой в использовании, но мощный в своих возможностях язык программирования. \n",
      "    он широко используется для веб-разработки, научных вычислений, искусственного интеллекта и многого другого.\n",
      "    \n"
     ]
    }
   ],
   "source": [
    "text_lower = text.lower()\n",
    "print(text_lower)"
   ]
  },
  {
   "cell_type": "markdown",
   "id": "252da39b",
   "metadata": {},
   "source": [
    "### Удаление знаков препинания"
   ]
  },
  {
   "cell_type": "code",
   "execution_count": 9,
   "id": "77e69304",
   "metadata": {},
   "outputs": [
    {
     "name": "stdout",
     "output_type": "stream",
     "text": [
      "это простой в использовании но мощный в своих возможностях язык программирования он широко используется для веб разработки научных вычислений искусственного интеллекта и многого другого\n"
     ]
    }
   ],
   "source": [
    "# Вариант I. Оставляем только кириллические буквы\n",
    "\n",
    "# Используем регулярное выражение для поиска слов с русскими буквами\n",
    "text_onlyrus = ' '.join(re.findall(r'\\b[а-яА-Я]+\\b', text_lower))\n",
    "print(text_onlyrus)"
   ]
  },
  {
   "cell_type": "code",
   "execution_count": 10,
   "id": "312d0657",
   "metadata": {},
   "outputs": [
    {
     "name": "stdout",
     "output_type": "stream",
     "text": [
      "python это простой в использовании но мощный в своих возможностях язык программирования он широко используется для вебразработки научных вычислений искусственного интеллекта и многого другого\n"
     ]
    }
   ],
   "source": [
    "# Вариант II. Удаляем знаки препинания и лишние пробелы\n",
    "\n",
    "# Создаем таблицу перевода, заменяющую знаки препинания на пробелы\n",
    "translator = str.maketrans('', '', string.punctuation)\n",
    "# Применяем таблицу перевода к тексту и удаляем лишние пробелы\n",
    "words = text_lower.translate(translator).split()\n",
    "text_clear = ' '.join(words)\n",
    "print(text_clear)"
   ]
  },
  {
   "cell_type": "markdown",
   "id": "9eaa3ad0",
   "metadata": {},
   "source": [
    "### Удаление стоп-слов"
   ]
  },
  {
   "cell_type": "code",
   "execution_count": 11,
   "id": "4a7c7c8a",
   "metadata": {},
   "outputs": [
    {
     "name": "stdout",
     "output_type": "stream",
     "text": [
      "Стоп-слова: не, больше, иногда, какой, три, того, только, лучше, вдруг, вам, него, без, с, хоть, моя, может, сейчас, между, так, им, эту, ну, всегда, когда, мне, этот, из, во, разве, бы, уже, что, потом, тем, будто, два, другой, за, нибудь, себя, опять, никогда, вы, и, чего, при, том, где, о, ли, по, ведь, он, для, можно, нее, тоже, почти, в, его, до, еще, надо, этом, к, вас, чтобы, на, ты, эти, этой, нас, если, них, какая, а, ни, да, была, об, всю, наконец, со, перед, куда, тебя, зачем, после, чуть, или, над, уж, был, будет, совсем, ее, этого, теперь, быть, вот, такой, от, нет, тут, ей, нельзя, раз, потому, сам, себе, более, под, они, хорошо, я, ней, тот, тогда, даже, у, впрочем, же, там, чтоб, как, то, есть, много, но, конечно, ничего, один, мой, меня, все, мы, свою, чем, через, ему, она, ним, здесь, ж, кто, всех, были, про, было, всего, их\n"
     ]
    }
   ],
   "source": [
    "stop_set = set(stopwords.words('russian'))\n",
    "print(\"Стоп-слова:\", \", \".join(stop_set))"
   ]
  },
  {
   "cell_type": "code",
   "execution_count": 12,
   "id": "e32f8225",
   "metadata": {},
   "outputs": [
    {
     "name": "stdout",
     "output_type": "stream",
     "text": [
      "['python', 'это', 'простой', 'использовании', 'мощный', 'своих', 'возможностях', 'язык', 'программирования', 'широко', 'используется', 'вебразработки', 'научных', 'вычислений', 'искусственного', 'интеллекта', 'многого', 'другого']\n"
     ]
    }
   ],
   "source": [
    "tokens = [word for word in text_clear.split() if word not in stop_set]\n",
    "print(tokens)"
   ]
  },
  {
   "cell_type": "markdown",
   "id": "2b059a09",
   "metadata": {},
   "source": [
    "### Стемминг"
   ]
  },
  {
   "cell_type": "code",
   "execution_count": 13,
   "id": "fdc1f0c2",
   "metadata": {},
   "outputs": [
    {
     "name": "stdout",
     "output_type": "stream",
     "text": [
      "['python', 'эт', 'прост', 'использован', 'мощн', 'сво', 'возможн', 'язык', 'программирован', 'широк', 'использ', 'вебразработк', 'научн', 'вычислен', 'искусствен', 'интеллект', 'мног', 'друг']\n"
     ]
    }
   ],
   "source": [
    "stemmer = SnowballStemmer(language='russian')\n",
    "tokens_stemm = [stemmer.stem(word) for word in tokens]\n",
    "print(tokens_stemm)"
   ]
  },
  {
   "cell_type": "markdown",
   "id": "403825d6",
   "metadata": {},
   "source": [
    "### Лемматизация"
   ]
  },
  {
   "cell_type": "code",
   "execution_count": 14,
   "id": "6cea1344",
   "metadata": {},
   "outputs": [
    {
     "name": "stdout",
     "output_type": "stream",
     "text": [
      "['python', 'это', 'простой', 'использование', 'мощный', 'свой', 'возможность', 'язык', 'программирование', 'широко', 'использоваться', 'вебразработка', 'научный', 'вычисление', 'искусственный', 'интеллект', 'многий', 'другой']\n"
     ]
    }
   ],
   "source": [
    "mystem = Mystem()\n",
    "tokens_lemma = list(filter(lambda x: x not in [' ', '\\n'], mystem.lemmatize(' '.join(tokens))))\n",
    "print(tokens_lemma)"
   ]
  },
  {
   "cell_type": "code",
   "execution_count": null,
   "id": "2c1990f5",
   "metadata": {},
   "outputs": [],
   "source": []
  }
 ],
 "metadata": {
  "kernelspec": {
   "display_name": "Python 3 (ipykernel)",
   "language": "python",
   "name": "python3"
  },
  "language_info": {
   "codemirror_mode": {
    "name": "ipython",
    "version": 3
   },
   "file_extension": ".py",
   "mimetype": "text/x-python",
   "name": "python",
   "nbconvert_exporter": "python",
   "pygments_lexer": "ipython3",
   "version": "3.9.19"
  }
 },
 "nbformat": 4,
 "nbformat_minor": 5
}
