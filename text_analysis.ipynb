{
 "cells": [
  {
   "cell_type": "markdown",
   "id": "259881a5",
   "metadata": {},
   "source": [
    "# Анализ текста"
   ]
  },
  {
   "cell_type": "markdown",
   "id": "b667e958-ec0f-4d00-891e-8f0035b8c17c",
   "metadata": {},
   "source": [
    "## Морфологический анализ"
   ]
  },
  {
   "cell_type": "markdown",
   "id": "572f3e91-20e2-4037-87a0-605e8267fd3a",
   "metadata": {},
   "source": [
    "Морфологический анализ текста - это процесс изучения формы или структуры слов.\n",
    "\n",
    "Когда мы говорим о форме слова, мы имеем в виду его части, такие как корень, суффикс, приставка и окончание. \n",
    "\n",
    "Рассмотрим пример:\n",
    "\n",
    "В слове \"бегать\" есть корень \"бег-\", к которому добавляется суффикс \"-ать\". Это делает слово \"бегать\" глаголом, означающим действие бега. Также, если мы добавим приставку \"по-\" и сделаем \"побегать\", это будет означать \"бегать немного\".\n",
    "\n",
    "Теперь рассмотрим окончания. Например, если мы возьмем слово \"бегает\", то его окончание \"-ет\" указывает на то, что это глагол, который описывает действие, выполняемое кем-то или чем-то.\n",
    "\n",
    "Морфологический анализ текста помогает нам понять эти части слова и их значения. Он помогает нам понять, как слова изменяются в разных формах, чтобы передать разные идеи или оттенки значения.\n",
    "\n",
    "Таким образом, морфологический анализ текста помогает нам разбираться в строении слов и их формах, чтобы мы могли лучше понять, что именно хотят нам сказать."
   ]
  },
  {
   "cell_type": "markdown",
   "id": "a7fa6ec7-498f-48ff-b4fe-4d5e19708d9a",
   "metadata": {},
   "source": [
    "### Подготовка библиотек"
   ]
  },
  {
   "cell_type": "code",
   "execution_count": null,
   "id": "3eaad3e0-8c13-4da9-b28f-246bf14c151c",
   "metadata": {},
   "outputs": [],
   "source": [
    "import os\n",
    "\n",
    "dir_import = 'import'\n",
    "os.makedirs(dir_import, exist_ok=True)"
   ]
  },
  {
   "cell_type": "code",
   "execution_count": null,
   "id": "bff727f6-de59-4a5f-9fc8-89f492793c40",
   "metadata": {},
   "outputs": [],
   "source": [
    "import pymorphy2\n",
    "import re\n",
    "import string\n",
    "import csv\n",
    "\n",
    "import nltk\n",
    "from nltk.corpus import stopwords\n",
    "from nltk.stem.snowball import SnowballStemmer\n",
    "\n",
    "from pymystem3 import Mystem"
   ]
  },
  {
   "cell_type": "markdown",
   "id": "5e11261a-fcd3-4af8-b489-54144b68aa14",
   "metadata": {},
   "source": [
    "### Ввод текста"
   ]
  },
  {
   "cell_type": "code",
   "execution_count": null,
   "id": "d16eb504-be00-42a7-8e25-760ec7a1cf16",
   "metadata": {},
   "outputs": [],
   "source": [
    "text = \"\"\"\n",
    "    Python - это простой в использовании, но мощный в своих возможностях язык программирования. \n",
    "    Он широко используется для веб-разработки, научных вычислений, искусственного интеллекта и многого другого.\n",
    "    \"\"\""
   ]
  },
  {
   "cell_type": "markdown",
   "id": "1db605ba-249f-4676-b25d-8dfa30d63217",
   "metadata": {},
   "source": [
    "### Обработка текста"
   ]
  },
  {
   "cell_type": "code",
   "execution_count": null,
   "id": "cea3a85e-db9b-41c2-b514-65620f62123c",
   "metadata": {},
   "outputs": [],
   "source": [
    "def text_processing(text):\n",
    "    translator = str.maketrans('', '', string.punctuation)\n",
    "    stop_set = set(stopwords.words('russian'))\n",
    "    mystem = Mystem()\n",
    "    \n",
    "    words = text.lower().translate(translator).split()\n",
    "    tokens = [word for word in words if word not in stop_set]\n",
    "    # tokens_lemma = list(filter(lambda x: x not in [' ', '\\n'], mystem.lemmatize(' '.join(tokens))))\n",
    "    return tokens\n",
    "\n",
    "tokens_ready = text_processing(text)"
   ]
  },
  {
   "cell_type": "markdown",
   "id": "c9b8e710-4b22-46d8-8847-f56a5234b75b",
   "metadata": {},
   "source": [
    "### Вывод граммем (меток)"
   ]
  },
  {
   "cell_type": "code",
   "execution_count": null,
   "id": "4e1d9de6-2e68-49aa-900e-20240cdfc57d",
   "metadata": {},
   "outputs": [],
   "source": [
    "morph = pymorphy2.MorphAnalyzer(lang='ru')\n",
    "for word in tokens_ready:\n",
    "    parsed_word = morph.parse(word)[0]\n",
    "    tags = str(parsed_word.tag).split(',')\n",
    "    print(f\"{word}: {tags}\")"
   ]
  },
  {
   "cell_type": "markdown",
   "id": "90ce25fa-1d5c-4f7d-8eb6-ae9e8354a292",
   "metadata": {},
   "source": [
    "### Вывод граммем (расшифровка)\n",
    "https://pymorphy2.readthedocs.io/en/stable/user/grammemes.html#russian-pos"
   ]
  },
  {
   "cell_type": "code",
   "execution_count": null,
   "id": "91a6bb23-4687-4c5b-abc7-53d4a098a5f4",
   "metadata": {},
   "outputs": [],
   "source": [
    "# Функция для загрузки словаря грамем из CSV файла\n",
    "def load_grammemes_dict(csv_file):\n",
    "    grammemes_dict = {}\n",
    "    with open(csv_file, newline='', encoding='utf-8') as csvfile:\n",
    "        reader = csv.DictReader(csvfile)\n",
    "        for row in reader:\n",
    "            internal_id = row['internal_id']\n",
    "            description = row['description']\n",
    "            grammemes_dict[internal_id] = description\n",
    "    return grammemes_dict\n",
    "    \n",
    "# Загрузка словаря грамем из CSV файла\n",
    "import_grammemes = os.path.join(dir_import, \"grammemes.csv\")\n",
    "grammemes_dict = load_grammemes_dict(import_grammemes)"
   ]
  },
  {
   "cell_type": "code",
   "execution_count": null,
   "id": "aa9ad7cf-f07c-4d05-835e-5858d5f98cd6",
   "metadata": {},
   "outputs": [],
   "source": [
    "for word in tokens_ready:\n",
    "    parsed_word = morph.parse(word)[0]\n",
    "    grammemes = parsed_word.tag.grammemes\n",
    "    grammemes_rus = [ grammemes_dict.get(grammeme, grammeme) for grammeme in grammemes ]        \n",
    "    print(f\"{word}: {grammemes_rus}\")"
   ]
  },
  {
   "cell_type": "markdown",
   "id": "9d05588d-d34c-4814-bc52-f86715b350eb",
   "metadata": {},
   "source": [
    "### Работа с граммемами\n",
    "\n",
    "- Часть речи можно получить через атрибут POS (```parsed_word.tag.POS```)\n",
    "- Падеж выделяется у существительных, полных прилагательных, полных причастий, числительных и местоимений. Получить его можно через атрибут case (```parsed_word.tag.case```)\n",
    "- Число можно получить через атрибут number (```parsed_word.tag.number```)\n",
    "- Род можно пролучить через атрибут gender (```parsed_word.tag.gender```)\n",
    "\n",
    "### Получение имён существительных и определение из падежа"
   ]
  },
  {
   "cell_type": "code",
   "execution_count": null,
   "id": "fe356b6b-860b-4e2d-974f-7d4da10f765e",
   "metadata": {},
   "outputs": [],
   "source": [
    "for word in tokens_ready:\n",
    "    parsed_word = morph.parse(word)[0]\n",
    "    if parsed_word.tag.POS == 'NOUN':\n",
    "        case = parsed_word.tag.case\n",
    "        print(f\"{word}: {grammemes_dict.get(case, case)}\")"
   ]
  },
  {
   "cell_type": "markdown",
   "id": "92ce91bd-9cdb-49f7-8187-251b0b343a3c",
   "metadata": {},
   "source": [
    "### Склонение слова"
   ]
  },
  {
   "cell_type": "code",
   "execution_count": null,
   "id": "08c3303f-a4b3-4e63-a870-7fb33b7438cb",
   "metadata": {},
   "outputs": [],
   "source": [
    "word = 'кошка'\n",
    "my_word = morph.parse(word)[0]\n",
    "\n",
    "for word in my_word.lexeme:\n",
    "    case = word.tag.case\n",
    "    case_rus = grammemes_dict.get(case, case)\n",
    "    number = word.tag.number\n",
    "    number_rus = grammemes_dict.get(number, number)\n",
    "    print(f\"{word.word}: {case}, {number} ({case_rus}, {number_rus})\")"
   ]
  },
  {
   "cell_type": "markdown",
   "id": "81c55795-a120-4833-a9d0-c4f86a0b7d9a",
   "metadata": {},
   "source": [
    "### Склонение слова с числительным"
   ]
  },
  {
   "cell_type": "code",
   "execution_count": null,
   "id": "c4d95ece-926d-4726-8c9f-8e67b1f9f66c",
   "metadata": {},
   "outputs": [],
   "source": [
    "word = 'кошка'\n",
    "my_word = morph.parse(word)[0]\n",
    "\n",
    "for i in range(8):\n",
    "    word_i = my_word.make_agree_with_number(i).word\n",
    "    print(f\"{i} {word_i}\")"
   ]
  },
  {
   "cell_type": "markdown",
   "id": "938db0a4-e3ba-4245-8587-efe7de365220",
   "metadata": {},
   "source": [
    "## Синтаксический анализ текста"
   ]
  },
  {
   "cell_type": "markdown",
   "id": "21d24eaf-760f-4f30-b1bf-bc1cf7d42496",
   "metadata": {},
   "source": [
    "Синтаксический анализ текста - это процесс, в ходе которого мы изучаем, как слова в предложении связаны между собой.\n",
    "\n",
    "Когда мы говорим или пишем, мы используем слова, чтобы передать свои мысли и идеи. Эти слова не просто располагаются одно за другим, они также имеют определенные отношения между собой. Например, в предложении \"Кот ловит мышь\", слово \"кот\" выполняет действие, а слово \"мышь\" является объектом этого действия.\n",
    "\n",
    "Синтаксический анализ текста помогает нам понять эти отношения между словами. Он помогает нам определить, какие слова являются частью предложения, какие слова выполняют действие, какие слова описывают субъект или объект, и как эти слова связаны друг с другом.\n",
    "\n",
    "В результате синтаксического анализа мы можем построить дерево, которое показывает, как каждое слово в предложении связано с другими словами. Это дерево называется деревом зависимостей. Оно помогает нам лучше понять структуру предложения и какие идеи или действия оно передает.\n",
    "\n",
    "Примеры ролей в дереве:\n",
    "\n",
    "- **nsubj**: Субъект (Subject) - подлежащее предложения. Это слово или фраза, которая выполняет действие, описанное глаголом. Например, в предложении \"Кот ловит мышь\", \"кот\" является подлежащим.\n",
    "\n",
    "- **root**: Корень (Root) - это корневой токен зависимостей. Он не имеет родителя и является центральным токеном зависимостей в дереве. Обычно это глагол или главный глагольный комплекс в предложении.\n",
    "\n",
    "- **advmod**: Наречие (Adverbial Modifier) - это наречие, которое модифицирует глагол, прилагательное, другое наречие или даже целое предложение. Оно обычно указывает на время, место, причину, степень или образ выполнения действия. Например, в предложении \"Он очень быстро бегает\", \"очень\" - наречие, модифицирующее глагол \"бегает\".\n",
    "\n",
    "- **obl**: Объект (Object) - это комплемент, который связан с глаголом и обозначает объект действия. Например, в предложении \"Она купила новый автомобиль\", \"новый автомобиль\" - объект.\n",
    "\n",
    "- **dobj**: Прямой объект (Direct Object) - подкатегория объекта, который является прямым объектом действия.\n",
    "\n",
    "- **attr**: Атрибут (Attribute) - это слово, которое указывает на свойство или характеристику субъекта.\n",
    "\n",
    "- **subj**: Подлежащее (Subject) - альтернативное обозначение для подлежащего.\n",
    "\n",
    "- **aux**: Вспомогательный глагол (Auxiliary) - это вспомогательный глагол, который используется для образования глагольной формы, но сам не несет основного смысла.\n",
    "\n",
    "- **conj**: Сочинение (Conjunct) - это токен, который является частью координации, например, в списке или параллельном выражении."
   ]
  },
  {
   "cell_type": "markdown",
   "id": "17bd381b-b88a-452e-b130-fa03ae2c11cb",
   "metadata": {},
   "source": [
    "### Импорт библиотек"
   ]
  },
  {
   "cell_type": "code",
   "execution_count": null,
   "id": "8c18064a-f7bc-4e38-85a6-8b452ff66ece",
   "metadata": {},
   "outputs": [],
   "source": [
    "# Импортируем библиотеку spaCy для обработки естественного языка\n",
    "import spacy\n",
    "# Импортируем модуль displacy из spaCy для визуализации зависимостей\n",
    "from spacy import displacy\n",
    "# Импортируем русский языковой модельный пакет большого размера\n",
    "import ru_core_news_lg"
   ]
  },
  {
   "cell_type": "markdown",
   "id": "d93524b0-84f4-4f1b-9669-a1137bb010aa",
   "metadata": {},
   "source": [
    "### Ввод текста"
   ]
  },
  {
   "cell_type": "code",
   "execution_count": null,
   "id": "c7e9f720-90cd-4868-8c4a-ee73e3e58c0c",
   "metadata": {},
   "outputs": [],
   "source": [
    "text = \"\"\"\n",
    "Я пришел домой поздно вечером.\n",
    "\"\"\""
   ]
  },
  {
   "cell_type": "markdown",
   "id": "309df11a-4eb5-4616-8f5d-0c62b6de7df1",
   "metadata": {},
   "source": [
    "### Построение графика синтаксических зависимостей"
   ]
  },
  {
   "cell_type": "code",
   "execution_count": null,
   "id": "0f458df0-6826-4a0a-b190-9a2e045a50ea",
   "metadata": {},
   "outputs": [],
   "source": [
    "# Загружаем русскую языковую модель большого размера\n",
    "en_nlp = ru_core_news_lg.load()\n",
    "# Применяем модель к тексту, создавая объект Doc\n",
    "doc = en_nlp(text)\n",
    "# Визуализируем синтаксические зависимости в тексте\n",
    "displacy.render(doc, style=\"dep\")"
   ]
  },
  {
   "cell_type": "markdown",
   "id": "2823848b-c74a-4dd4-99b4-0eefc6afa261",
   "metadata": {},
   "source": [
    "## Семантический анализ текста"
   ]
  },
  {
   "cell_type": "markdown",
   "id": "dde8fd95-5291-45aa-a1be-1003710e5ac4",
   "metadata": {},
   "source": [
    "Семантический анализ текста - это способ понимания значения слов и их связей в предложении или тексте. \n",
    "\n",
    "Когда мы читаем или слушаем текст, мы не просто видим отдельные слова, но и стараемся понять, о чем идет речь, какие мысли автор хочет передать. Семантический анализ помогает нам в этом.\n",
    "\n",
    "Для понимания смысла текста нам нужно знать значения слов и как они сочетаются друг с другом. Например, если мы видим слова \"кот\" и \"мышь\", мы понимаем, что кот может поймать мышь, потому что это типичное поведение котов. Это понимание значений слов и их связей - это и есть семантический анализ.\n",
    "\n",
    "Семантический анализ также помогает нам понять отношения между предложениями или частями текста. Например, если в одном предложении говорится \"Кот поймал мышь\", а в другом \"Мышь попыталась убежать\", мы понимаем, что первое предложение описывает действие, которое произошло до второго.\n",
    "\n",
    "Таким образом, семантический анализ текста помогает нам не просто читать слова, а понимать, о чем речь и какие мысли или идеи автор хочет передать."
   ]
  },
  {
   "cell_type": "markdown",
   "id": "ce2eae1f-99c8-4618-b1e0-4d7b30c6fb68",
   "metadata": {},
   "source": [
    "### Импорт библиотек"
   ]
  },
  {
   "cell_type": "code",
   "execution_count": null,
   "id": "fe389b10-2c3f-4681-80b7-709367a832e2",
   "metadata": {},
   "outputs": [],
   "source": [
    "import spacy\n",
    "from nltk import Tree\n",
    "from spacy import displacy\n",
    "import ru_core_news_lg"
   ]
  },
  {
   "cell_type": "markdown",
   "id": "5e4ac718-221e-4ef4-8fe5-baee99a66e0c",
   "metadata": {},
   "source": [
    "### Ввод текста"
   ]
  },
  {
   "cell_type": "code",
   "execution_count": null,
   "id": "b8d672c1-389c-4112-9707-bef95d37e585",
   "metadata": {},
   "outputs": [],
   "source": [
    "text = \"\"\"\n",
    "Сидоров, ты тупой!\n",
    "\"\"\""
   ]
  },
  {
   "cell_type": "markdown",
   "id": "a2c70525-7d7d-424b-92c3-e0c558761c7c",
   "metadata": {},
   "source": [
    "### Извлечение именованных сущностей"
   ]
  },
  {
   "cell_type": "code",
   "execution_count": null,
   "id": "f0990072-b188-46e0-831e-c27acf4ffdc8",
   "metadata": {},
   "outputs": [],
   "source": [
    "en_nlp = ru_core_news_lg.load()\n",
    "doc = en_nlp(text)\n",
    "for named_entity in doc.ents:\n",
    "    label = named_entity.label_\n",
    "    explain_label = spacy.explain(label)\n",
    "    print(f\"{named_entity}: {label} ({explain_label})\")"
   ]
  },
  {
   "cell_type": "markdown",
   "id": "b50d8e0a-1a6c-4dcd-b709-940e826c071d",
   "metadata": {},
   "source": [
    "### Анализ тональности\n",
    "https://huggingface.co/blanchefort/rubert-base-cased-sentiment"
   ]
  },
  {
   "cell_type": "code",
   "execution_count": null,
   "id": "a2b84088-c759-4168-b83a-7ae1cee2863c",
   "metadata": {},
   "outputs": [],
   "source": [
    "import torch\n",
    "from transformers import AutoModelForSequenceClassification\n",
    "from transformers import BertTokenizerFast\n",
    "\n",
    "tokenizer = BertTokenizerFast.from_pretrained('blanchefort/rubert-base-cased-sentiment')\n",
    "model = AutoModelForSequenceClassification.from_pretrained('blanchefort/rubert-base-cased-sentiment', return_dict=True)\n",
    "labels = ['Нейтральный', 'Позитивный', 'Негативный']\n",
    "\n",
    "@torch.no_grad()\n",
    "def predict(text):\n",
    "    inputs = tokenizer(text, max_length=512, padding=True, truncation=True, return_tensors='pt')\n",
    "    outputs = model(**inputs)\n",
    "    predicted = torch.nn.functional.softmax(outputs.logits, dim=1)\n",
    "    return predicted\n",
    "\n",
    "probabilities = predict(text)\n",
    "for label, prob in zip(labels, probabilities[0]):\n",
    "    print(f\"{label}: {prob:.4f}\")"
   ]
  },
  {
   "cell_type": "code",
   "execution_count": null,
   "id": "46c971ce-58cf-4554-99e8-c36f610f5d90",
   "metadata": {},
   "outputs": [],
   "source": []
  }
 ],
 "metadata": {
  "kernelspec": {
   "display_name": "Python 3 (ipykernel)",
   "language": "python",
   "name": "python3"
  },
  "language_info": {
   "codemirror_mode": {
    "name": "ipython",
    "version": 3
   },
   "file_extension": ".py",
   "mimetype": "text/x-python",
   "name": "python",
   "nbconvert_exporter": "python",
   "pygments_lexer": "ipython3",
   "version": "3.8.19"
  }
 },
 "nbformat": 4,
 "nbformat_minor": 5
}
