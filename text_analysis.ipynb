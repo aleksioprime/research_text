{
 "cells": [
  {
   "cell_type": "markdown",
   "id": "259881a5",
   "metadata": {},
   "source": [
    "# Анализ текста"
   ]
  },
  {
   "cell_type": "markdown",
   "id": "b667e958-ec0f-4d00-891e-8f0035b8c17c",
   "metadata": {},
   "source": [
    "## Морфологический анализ"
   ]
  },
  {
   "cell_type": "markdown",
   "id": "572f3e91-20e2-4037-87a0-605e8267fd3a",
   "metadata": {},
   "source": [
    "Морфологический анализ текста - это процесс изучения формы или структуры слов.\n",
    "\n",
    "Когда мы говорим о форме слова, мы имеем в виду его части, такие как корень, суффикс, приставка и окончание. \n",
    "\n",
    "Рассмотрим пример:\n",
    "\n",
    "В слове \"бегать\" есть корень \"бег-\", к которому добавляется суффикс \"-ать\". Это делает слово \"бегать\" глаголом, означающим действие бега. Также, если мы добавим приставку \"по-\" и сделаем \"побегать\", это будет означать \"бегать немного\".\n",
    "\n",
    "Теперь рассмотрим окончания. Например, если мы возьмем слово \"бегает\", то его окончание \"-ет\" указывает на то, что это глагол, который описывает действие, выполняемое кем-то или чем-то.\n",
    "\n",
    "Морфологический анализ текста помогает нам понять эти части слова и их значения. Он помогает нам понять, как слова изменяются в разных формах, чтобы передать разные идеи или оттенки значения.\n",
    "\n",
    "Таким образом, морфологический анализ текста помогает нам разбираться в строении слов и их формах, чтобы мы могли лучше понять, что именно хотят нам сказать."
   ]
  },
  {
   "cell_type": "markdown",
   "id": "a7fa6ec7-498f-48ff-b4fe-4d5e19708d9a",
   "metadata": {},
   "source": [
    "### Подготовка библиотек"
   ]
  },
  {
   "cell_type": "code",
   "execution_count": 1,
   "id": "3eaad3e0-8c13-4da9-b28f-246bf14c151c",
   "metadata": {},
   "outputs": [],
   "source": [
    "import os\n",
    "from IPython.display import clear_output\n",
    "\n",
    "dir_import = 'import'\n",
    "os.makedirs(dir_import, exist_ok=True)"
   ]
  },
  {
   "cell_type": "code",
   "execution_count": 2,
   "id": "cf212f07-5fb0-45fa-9c12-5f302a590bf0",
   "metadata": {},
   "outputs": [],
   "source": [
    "!pip install pymorphy2\n",
    "!pip install pymorphy3\n",
    "!pip install -U pymorphy2-dicts-ru\n",
    "clear_output()"
   ]
  },
  {
   "cell_type": "code",
   "execution_count": 3,
   "id": "bff727f6-de59-4a5f-9fc8-89f492793c40",
   "metadata": {},
   "outputs": [
    {
     "name": "stderr",
     "output_type": "stream",
     "text": [
      "[nltk_data] Downloading package stopwords to\n",
      "[nltk_data]     /Users/aleksioprime/nltk_data...\n",
      "[nltk_data]   Package stopwords is already up-to-date!\n"
     ]
    }
   ],
   "source": [
    "import pymorphy2\n",
    "import re\n",
    "import string\n",
    "import csv\n",
    "\n",
    "import nltk\n",
    "nltk.download('stopwords')\n",
    "\n",
    "from nltk.corpus import stopwords\n",
    "from nltk.stem.snowball import SnowballStemmer\n",
    "from pymystem3 import Mystem"
   ]
  },
  {
   "cell_type": "markdown",
   "id": "5e11261a-fcd3-4af8-b489-54144b68aa14",
   "metadata": {},
   "source": [
    "### Ввод текста"
   ]
  },
  {
   "cell_type": "code",
   "execution_count": 4,
   "id": "d16eb504-be00-42a7-8e25-760ec7a1cf16",
   "metadata": {},
   "outputs": [],
   "source": [
    "text = \"\"\"\n",
    "    Python - это простой в использовании, но мощный в своих возможностях язык программирования. \n",
    "    Он широко используется для веб-разработки, научных вычислений, искусственного интеллекта и многого другого.\n",
    "    \"\"\""
   ]
  },
  {
   "cell_type": "markdown",
   "id": "1db605ba-249f-4676-b25d-8dfa30d63217",
   "metadata": {},
   "source": [
    "### Обработка текста"
   ]
  },
  {
   "cell_type": "code",
   "execution_count": 5,
   "id": "cea3a85e-db9b-41c2-b514-65620f62123c",
   "metadata": {},
   "outputs": [],
   "source": [
    "def text_processing(text):\n",
    "    translator = str.maketrans('', '', string.punctuation)\n",
    "    stop_set = set(stopwords.words('russian'))\n",
    "    mystem = Mystem()\n",
    "    \n",
    "    words = text.lower().translate(translator).split()\n",
    "    tokens = [word for word in words if word not in stop_set]\n",
    "    # tokens_lemma = list(filter(lambda x: x not in [' ', '\\n'], mystem.lemmatize(' '.join(tokens))))\n",
    "    return tokens\n",
    "\n",
    "tokens_ready = text_processing(text)"
   ]
  },
  {
   "cell_type": "markdown",
   "id": "c9b8e710-4b22-46d8-8847-f56a5234b75b",
   "metadata": {},
   "source": [
    "### Вывод граммем (меток)"
   ]
  },
  {
   "cell_type": "code",
   "execution_count": 6,
   "id": "4e1d9de6-2e68-49aa-900e-20240cdfc57d",
   "metadata": {},
   "outputs": [
    {
     "name": "stdout",
     "output_type": "stream",
     "text": [
      "python: ['LATN']\n",
      "это: ['PRCL']\n",
      "простой: ['ADJF', 'Qual femn', 'sing', 'gent']\n",
      "использовании: ['NOUN', 'inan', 'neut sing', 'loct']\n",
      "мощный: ['ADJF', 'Qual masc', 'sing', 'nomn']\n",
      "своих: ['ADJF', 'Apro', 'Anph plur', 'gent']\n",
      "возможностях: ['NOUN', 'inan', 'femn plur', 'loct']\n",
      "язык: ['NOUN', 'inan', 'masc sing', 'accs']\n",
      "программирования: ['NOUN', 'inan', 'neut sing', 'gent']\n",
      "широко: ['ADVB']\n",
      "используется: ['VERB', 'impf', 'intr sing', '3per', 'pres', 'indc']\n",
      "вебразработки: ['NOUN', 'inan', 'femn sing', 'gent']\n",
      "научных: ['ADJF', 'Qual plur', 'gent']\n",
      "вычислений: ['NOUN', 'inan', 'neut plur', 'gent']\n",
      "искусственного: ['ADJF', 'Qual neut', 'sing', 'gent']\n",
      "интеллекта: ['NOUN', 'inan', 'masc sing', 'gent']\n",
      "многого: ['NPRO', 'neut sing', 'gent']\n",
      "другого: ['ADJF', 'Subx', 'Apro neut', 'sing', 'gent']\n"
     ]
    }
   ],
   "source": [
    "morph = pymorphy2.MorphAnalyzer(lang='ru')\n",
    "for word in tokens_ready:\n",
    "    parsed_word = morph.parse(word)[0]\n",
    "    tags = str(parsed_word.tag).split(',')\n",
    "    print(f\"{word}: {tags}\")"
   ]
  },
  {
   "cell_type": "markdown",
   "id": "90ce25fa-1d5c-4f7d-8eb6-ae9e8354a292",
   "metadata": {},
   "source": [
    "### Вывод граммем (расшифровка)\n",
    "https://pymorphy2.readthedocs.io/en/stable/user/grammemes.html#russian-pos"
   ]
  },
  {
   "cell_type": "code",
   "execution_count": 7,
   "id": "91a6bb23-4687-4c5b-abc7-53d4a098a5f4",
   "metadata": {},
   "outputs": [],
   "source": [
    "# Функция для загрузки словаря грамем из CSV файла\n",
    "def load_grammemes_dict(csv_file):\n",
    "    grammemes_dict = {}\n",
    "    with open(csv_file, newline='', encoding='utf-8') as csvfile:\n",
    "        reader = csv.DictReader(csvfile)\n",
    "        for row in reader:\n",
    "            internal_id = row['internal_id']\n",
    "            description = row['description']\n",
    "            grammemes_dict[internal_id] = description\n",
    "    return grammemes_dict\n",
    "    \n",
    "# Загрузка словаря грамем из CSV файла\n",
    "import_grammemes = os.path.join(dir_import, \"grammemes.csv\")\n",
    "grammemes_dict = load_grammemes_dict(import_grammemes)"
   ]
  },
  {
   "cell_type": "code",
   "execution_count": 8,
   "id": "aa9ad7cf-f07c-4d05-835e-5858d5f98cd6",
   "metadata": {},
   "outputs": [
    {
     "name": "stdout",
     "output_type": "stream",
     "text": [
      "python: ['LATN']\n",
      "это: ['частица']\n",
      "простой: ['качественное', 'имя прилагательное (полное)', 'единственное число', 'женский род', 'родительный падеж']\n",
      "использовании: ['имя существительное', 'неодушевлённое', 'средний род', 'единственное число', 'предложный падеж']\n",
      "мощный: ['качественное', 'мужской род', 'имя прилагательное (полное)', 'единственное число', 'именительный падеж']\n",
      "своих: ['местоименное', 'имя прилагательное (полное)', 'родительный падеж', 'Анафорическое (местоимение)', 'множественное число']\n",
      "возможностях: ['имя существительное', 'неодушевлённое', 'женский род', 'предложный падеж', 'множественное число']\n",
      "язык: ['имя существительное', 'мужской род', 'неодушевлённое', 'винительный падеж', 'единственное число']\n",
      "программирования: ['имя существительное', 'неодушевлённое', 'средний род', 'единственное число', 'родительный падеж']\n",
      "широко: ['наречие']\n",
      "используется: ['несовершенный вид', 'глагол (личная форма)', 'единственное число', 'непереходный', '3 лицо', 'изъявительное наклонение', 'настоящее время']\n",
      "вебразработки: ['имя существительное', 'неодушевлённое', 'единственное число', 'женский род', 'родительный падеж']\n",
      "научных: ['имя прилагательное (полное)', 'качественное', 'родительный падеж', 'множественное число']\n",
      "вычислений: ['имя существительное', 'неодушевлённое', 'средний род', 'родительный падеж', 'множественное число']\n",
      "искусственного: ['качественное', 'имя прилагательное (полное)', 'средний род', 'единственное число', 'родительный падеж']\n",
      "интеллекта: ['имя существительное', 'мужской род', 'неодушевлённое', 'единственное число', 'родительный падеж']\n",
      "многого: ['местоимение-существительное', 'средний род', 'родительный падеж', 'единственное число']\n",
      "другого: ['местоименное', 'имя прилагательное (полное)', 'средний род', 'единственное число', 'возможна субстантивация', 'родительный падеж']\n"
     ]
    }
   ],
   "source": [
    "for word in tokens_ready:\n",
    "    parsed_word = morph.parse(word)[0]\n",
    "    grammemes = parsed_word.tag.grammemes\n",
    "    grammemes_rus = [ grammemes_dict.get(grammeme, grammeme) for grammeme in grammemes ]        \n",
    "    print(f\"{word}: {grammemes_rus}\")"
   ]
  },
  {
   "cell_type": "markdown",
   "id": "9d05588d-d34c-4814-bc52-f86715b350eb",
   "metadata": {},
   "source": [
    "### Работа с граммемами\n",
    "\n",
    "- Часть речи можно получить через атрибут POS (```parsed_word.tag.POS```)\n",
    "- Падеж выделяется у существительных, полных прилагательных, полных причастий, числительных и местоимений. Получить его можно через атрибут case (```parsed_word.tag.case```)\n",
    "- Число можно получить через атрибут number (```parsed_word.tag.number```)\n",
    "- Род можно пролучить через атрибут gender (```parsed_word.tag.gender```)\n",
    "\n",
    "### Получение имён существительных и определение из падежа"
   ]
  },
  {
   "cell_type": "code",
   "execution_count": 9,
   "id": "fe356b6b-860b-4e2d-974f-7d4da10f765e",
   "metadata": {},
   "outputs": [
    {
     "name": "stdout",
     "output_type": "stream",
     "text": [
      "использовании: предложный падеж\n",
      "возможностях: предложный падеж\n",
      "язык: винительный падеж\n",
      "программирования: родительный падеж\n",
      "вебразработки: родительный падеж\n",
      "вычислений: родительный падеж\n",
      "интеллекта: родительный падеж\n"
     ]
    }
   ],
   "source": [
    "for word in tokens_ready:\n",
    "    parsed_word = morph.parse(word)[0]\n",
    "    if parsed_word.tag.POS == 'NOUN':\n",
    "        case = parsed_word.tag.case\n",
    "        print(f\"{word}: {grammemes_dict.get(case, case)}\")"
   ]
  },
  {
   "cell_type": "markdown",
   "id": "92ce91bd-9cdb-49f7-8187-251b0b343a3c",
   "metadata": {},
   "source": [
    "### Склонение слова"
   ]
  },
  {
   "cell_type": "code",
   "execution_count": 10,
   "id": "08c3303f-a4b3-4e63-a870-7fb33b7438cb",
   "metadata": {},
   "outputs": [
    {
     "name": "stdout",
     "output_type": "stream",
     "text": [
      "кошка: nomn, sing (именительный падеж, единственное число)\n",
      "кошки: gent, sing (родительный падеж, единственное число)\n",
      "кошке: datv, sing (дательный падеж, единственное число)\n",
      "кошку: accs, sing (винительный падеж, единственное число)\n",
      "кошкой: ablt, sing (творительный падеж, единственное число)\n",
      "кошкою: ablt, sing (творительный падеж, единственное число)\n",
      "кошке: loct, sing (предложный падеж, единственное число)\n",
      "кошки: nomn, plur (именительный падеж, множественное число)\n",
      "кошек: gent, plur (родительный падеж, множественное число)\n",
      "кошкам: datv, plur (дательный падеж, множественное число)\n",
      "кошек: accs, plur (винительный падеж, множественное число)\n",
      "кошками: ablt, plur (творительный падеж, множественное число)\n",
      "кошках: loct, plur (предложный падеж, множественное число)\n"
     ]
    }
   ],
   "source": [
    "word = 'кошка'\n",
    "my_word = morph.parse(word)[0]\n",
    "\n",
    "for word in my_word.lexeme:\n",
    "    case = word.tag.case\n",
    "    case_rus = grammemes_dict.get(case, case)\n",
    "    number = word.tag.number\n",
    "    number_rus = grammemes_dict.get(number, number)\n",
    "    print(f\"{word.word}: {case}, {number} ({case_rus}, {number_rus})\")"
   ]
  },
  {
   "cell_type": "markdown",
   "id": "81c55795-a120-4833-a9d0-c4f86a0b7d9a",
   "metadata": {},
   "source": [
    "### Склонение слова с числительным"
   ]
  },
  {
   "cell_type": "code",
   "execution_count": 11,
   "id": "c4d95ece-926d-4726-8c9f-8e67b1f9f66c",
   "metadata": {},
   "outputs": [
    {
     "name": "stdout",
     "output_type": "stream",
     "text": [
      "0 кошек\n",
      "1 кошка\n",
      "2 кошки\n",
      "3 кошки\n",
      "4 кошки\n",
      "5 кошек\n",
      "6 кошек\n",
      "7 кошек\n"
     ]
    }
   ],
   "source": [
    "word = 'кошка'\n",
    "my_word = morph.parse(word)[0]\n",
    "\n",
    "for i in range(8):\n",
    "    word_i = my_word.make_agree_with_number(i).word\n",
    "    print(f\"{i} {word_i}\")"
   ]
  },
  {
   "cell_type": "markdown",
   "id": "938db0a4-e3ba-4245-8587-efe7de365220",
   "metadata": {},
   "source": [
    "## Синтаксический анализ текста"
   ]
  },
  {
   "cell_type": "markdown",
   "id": "21d24eaf-760f-4f30-b1bf-bc1cf7d42496",
   "metadata": {},
   "source": [
    "Синтаксический анализ текста - это процесс, в ходе которого мы изучаем, как слова в предложении связаны между собой.\n",
    "\n",
    "Когда мы говорим или пишем, мы используем слова, чтобы передать свои мысли и идеи. Эти слова не просто располагаются одно за другим, они также имеют определенные отношения между собой. Например, в предложении \"Кот ловит мышь\", слово \"кот\" выполняет действие, а слово \"мышь\" является объектом этого действия.\n",
    "\n",
    "Синтаксический анализ текста помогает нам понять эти отношения между словами. Он помогает нам определить, какие слова являются частью предложения, какие слова выполняют действие, какие слова описывают субъект или объект, и как эти слова связаны друг с другом.\n",
    "\n",
    "В результате синтаксического анализа мы можем построить дерево, которое показывает, как каждое слово в предложении связано с другими словами. Это дерево называется деревом зависимостей. Оно помогает нам лучше понять структуру предложения и какие идеи или действия оно передает.\n",
    "\n",
    "Примеры ролей в дереве:\n",
    "\n",
    "- **nsubj**: Субъект (Subject) - подлежащее предложения. Это слово или фраза, которая выполняет действие, описанное глаголом. Например, в предложении \"Кот ловит мышь\", \"кот\" является подлежащим.\n",
    "\n",
    "- **root**: Корень (Root) - это корневой токен зависимостей. Он не имеет родителя и является центральным токеном зависимостей в дереве. Обычно это глагол или главный глагольный комплекс в предложении.\n",
    "\n",
    "- **advmod**: Наречие (Adverbial Modifier) - это наречие, которое модифицирует глагол, прилагательное, другое наречие или даже целое предложение. Оно обычно указывает на время, место, причину, степень или образ выполнения действия. Например, в предложении \"Он очень быстро бегает\", \"очень\" - наречие, модифицирующее глагол \"бегает\".\n",
    "\n",
    "- **obl**: Объект (Object) - это комплемент, который связан с глаголом и обозначает объект действия. Например, в предложении \"Она купила новый автомобиль\", \"новый автомобиль\" - объект.\n",
    "\n",
    "- **dobj**: Прямой объект (Direct Object) - подкатегория объекта, который является прямым объектом действия.\n",
    "\n",
    "- **attr**: Атрибут (Attribute) - это слово, которое указывает на свойство или характеристику субъекта.\n",
    "\n",
    "- **subj**: Подлежащее (Subject) - альтернативное обозначение для подлежащего.\n",
    "\n",
    "- **aux**: Вспомогательный глагол (Auxiliary) - это вспомогательный глагол, который используется для образования глагольной формы, но сам не несет основного смысла.\n",
    "\n",
    "- **conj**: Сочинение (Conjunct) - это токен, который является частью координации, например, в списке или параллельном выражении."
   ]
  },
  {
   "cell_type": "markdown",
   "id": "acdf8a74-107c-4344-9e02-16404cf329ff",
   "metadata": {},
   "source": [
    "### Установка библиотек"
   ]
  },
  {
   "cell_type": "code",
   "execution_count": 12,
   "id": "597d36ec-717e-40b3-b06e-5ac3c13671bc",
   "metadata": {},
   "outputs": [],
   "source": [
    "!pip install numpy\n",
    "!pip install spacy\n",
    "clear_output()"
   ]
  },
  {
   "cell_type": "markdown",
   "id": "17bd381b-b88a-452e-b130-fa03ae2c11cb",
   "metadata": {},
   "source": [
    "### Импорт библиотек"
   ]
  },
  {
   "cell_type": "code",
   "execution_count": 19,
   "id": "8c18064a-f7bc-4e38-85a6-8b452ff66ece",
   "metadata": {},
   "outputs": [
    {
     "name": "stdout",
     "output_type": "stream",
     "text": [
      "Модель установлена\n"
     ]
    }
   ],
   "source": [
    "# Импортируем библиотеку spaCy для обработки естественного языка\n",
    "import spacy\n",
    "# Импортируем модуль displacy из spaCy для визуализации зависимостей\n",
    "from spacy import displacy\n",
    "# Импортируем русский языковой модельный пакет большого размера\n",
    "import importlib\n",
    "try:\n",
    "    importlib.import_module('ru_core_news_lg')\n",
    "    print(f\"Модель установлена\")\n",
    "except ImportError:\n",
    "    print(f\"Модель не найдена. Загружаем...\")\n",
    "    !python -m spacy download ru_core_news_lg\n",
    "    clear_output()\n",
    "finally:\n",
    "    import ru_core_news_lg"
   ]
  },
  {
   "cell_type": "markdown",
   "id": "d93524b0-84f4-4f1b-9669-a1137bb010aa",
   "metadata": {},
   "source": [
    "### Ввод текста"
   ]
  },
  {
   "cell_type": "code",
   "execution_count": 20,
   "id": "c7e9f720-90cd-4868-8c4a-ee73e3e58c0c",
   "metadata": {},
   "outputs": [],
   "source": [
    "text = \"\"\"\n",
    "Я пришел домой поздно вечером.\n",
    "\"\"\""
   ]
  },
  {
   "cell_type": "markdown",
   "id": "309df11a-4eb5-4616-8f5d-0c62b6de7df1",
   "metadata": {},
   "source": [
    "### Построение графика синтаксических зависимостей"
   ]
  },
  {
   "cell_type": "code",
   "execution_count": 21,
   "id": "0f458df0-6826-4a0a-b190-9a2e045a50ea",
   "metadata": {},
   "outputs": [
    {
     "data": {
      "text/html": [
       "<span class=\"tex2jax_ignore\"><svg xmlns=\"http://www.w3.org/2000/svg\" xmlns:xlink=\"http://www.w3.org/1999/xlink\" xml:lang=\"ru\" id=\"85f152c7efa04a7897bf36f08325a67c-0\" class=\"displacy\" width=\"1275\" height=\"312.0\" direction=\"ltr\" style=\"max-width: none; height: 312.0px; color: #000000; background: #ffffff; font-family: Arial; direction: ltr\">\n",
       "<text class=\"displacy-token\" fill=\"currentColor\" text-anchor=\"middle\" y=\"222.0\">\n",
       "    <tspan class=\"displacy-word\" fill=\"currentColor\" x=\"50\">\n",
       "</tspan>\n",
       "    <tspan class=\"displacy-tag\" dy=\"2em\" fill=\"currentColor\" x=\"50\">SPACE</tspan>\n",
       "</text>\n",
       "\n",
       "<text class=\"displacy-token\" fill=\"currentColor\" text-anchor=\"middle\" y=\"222.0\">\n",
       "    <tspan class=\"displacy-word\" fill=\"currentColor\" x=\"225\">Я</tspan>\n",
       "    <tspan class=\"displacy-tag\" dy=\"2em\" fill=\"currentColor\" x=\"225\">PRON</tspan>\n",
       "</text>\n",
       "\n",
       "<text class=\"displacy-token\" fill=\"currentColor\" text-anchor=\"middle\" y=\"222.0\">\n",
       "    <tspan class=\"displacy-word\" fill=\"currentColor\" x=\"400\">пришел</tspan>\n",
       "    <tspan class=\"displacy-tag\" dy=\"2em\" fill=\"currentColor\" x=\"400\">VERB</tspan>\n",
       "</text>\n",
       "\n",
       "<text class=\"displacy-token\" fill=\"currentColor\" text-anchor=\"middle\" y=\"222.0\">\n",
       "    <tspan class=\"displacy-word\" fill=\"currentColor\" x=\"575\">домой</tspan>\n",
       "    <tspan class=\"displacy-tag\" dy=\"2em\" fill=\"currentColor\" x=\"575\">ADV</tspan>\n",
       "</text>\n",
       "\n",
       "<text class=\"displacy-token\" fill=\"currentColor\" text-anchor=\"middle\" y=\"222.0\">\n",
       "    <tspan class=\"displacy-word\" fill=\"currentColor\" x=\"750\">поздно</tspan>\n",
       "    <tspan class=\"displacy-tag\" dy=\"2em\" fill=\"currentColor\" x=\"750\">ADV</tspan>\n",
       "</text>\n",
       "\n",
       "<text class=\"displacy-token\" fill=\"currentColor\" text-anchor=\"middle\" y=\"222.0\">\n",
       "    <tspan class=\"displacy-word\" fill=\"currentColor\" x=\"925\">вечером.</tspan>\n",
       "    <tspan class=\"displacy-tag\" dy=\"2em\" fill=\"currentColor\" x=\"925\">NOUN</tspan>\n",
       "</text>\n",
       "\n",
       "<text class=\"displacy-token\" fill=\"currentColor\" text-anchor=\"middle\" y=\"222.0\">\n",
       "    <tspan class=\"displacy-word\" fill=\"currentColor\" x=\"1100\">\n",
       "</tspan>\n",
       "    <tspan class=\"displacy-tag\" dy=\"2em\" fill=\"currentColor\" x=\"1100\">SPACE</tspan>\n",
       "</text>\n",
       "\n",
       "<g class=\"displacy-arrow\">\n",
       "    <path class=\"displacy-arc\" id=\"arrow-85f152c7efa04a7897bf36f08325a67c-0-0\" stroke-width=\"2px\" d=\"M70,177.0 C70,89.5 220.0,89.5 220.0,177.0\" fill=\"none\" stroke=\"currentColor\"/>\n",
       "    <text dy=\"1.25em\" style=\"font-size: 0.8em; letter-spacing: 1px\">\n",
       "        <textPath xlink:href=\"#arrow-85f152c7efa04a7897bf36f08325a67c-0-0\" class=\"displacy-label\" startOffset=\"50%\" side=\"left\" fill=\"currentColor\" text-anchor=\"middle\">dep</textPath>\n",
       "    </text>\n",
       "    <path class=\"displacy-arrowhead\" d=\"M70,179.0 L62,167.0 78,167.0\" fill=\"currentColor\"/>\n",
       "</g>\n",
       "\n",
       "<g class=\"displacy-arrow\">\n",
       "    <path class=\"displacy-arc\" id=\"arrow-85f152c7efa04a7897bf36f08325a67c-0-1\" stroke-width=\"2px\" d=\"M245,177.0 C245,89.5 395.0,89.5 395.0,177.0\" fill=\"none\" stroke=\"currentColor\"/>\n",
       "    <text dy=\"1.25em\" style=\"font-size: 0.8em; letter-spacing: 1px\">\n",
       "        <textPath xlink:href=\"#arrow-85f152c7efa04a7897bf36f08325a67c-0-1\" class=\"displacy-label\" startOffset=\"50%\" side=\"left\" fill=\"currentColor\" text-anchor=\"middle\">nsubj</textPath>\n",
       "    </text>\n",
       "    <path class=\"displacy-arrowhead\" d=\"M245,179.0 L237,167.0 253,167.0\" fill=\"currentColor\"/>\n",
       "</g>\n",
       "\n",
       "<g class=\"displacy-arrow\">\n",
       "    <path class=\"displacy-arc\" id=\"arrow-85f152c7efa04a7897bf36f08325a67c-0-2\" stroke-width=\"2px\" d=\"M420,177.0 C420,89.5 570.0,89.5 570.0,177.0\" fill=\"none\" stroke=\"currentColor\"/>\n",
       "    <text dy=\"1.25em\" style=\"font-size: 0.8em; letter-spacing: 1px\">\n",
       "        <textPath xlink:href=\"#arrow-85f152c7efa04a7897bf36f08325a67c-0-2\" class=\"displacy-label\" startOffset=\"50%\" side=\"left\" fill=\"currentColor\" text-anchor=\"middle\">advmod</textPath>\n",
       "    </text>\n",
       "    <path class=\"displacy-arrowhead\" d=\"M570.0,179.0 L578.0,167.0 562.0,167.0\" fill=\"currentColor\"/>\n",
       "</g>\n",
       "\n",
       "<g class=\"displacy-arrow\">\n",
       "    <path class=\"displacy-arc\" id=\"arrow-85f152c7efa04a7897bf36f08325a67c-0-3\" stroke-width=\"2px\" d=\"M770,177.0 C770,89.5 920.0,89.5 920.0,177.0\" fill=\"none\" stroke=\"currentColor\"/>\n",
       "    <text dy=\"1.25em\" style=\"font-size: 0.8em; letter-spacing: 1px\">\n",
       "        <textPath xlink:href=\"#arrow-85f152c7efa04a7897bf36f08325a67c-0-3\" class=\"displacy-label\" startOffset=\"50%\" side=\"left\" fill=\"currentColor\" text-anchor=\"middle\">advmod</textPath>\n",
       "    </text>\n",
       "    <path class=\"displacy-arrowhead\" d=\"M770,179.0 L762,167.0 778,167.0\" fill=\"currentColor\"/>\n",
       "</g>\n",
       "\n",
       "<g class=\"displacy-arrow\">\n",
       "    <path class=\"displacy-arc\" id=\"arrow-85f152c7efa04a7897bf36f08325a67c-0-4\" stroke-width=\"2px\" d=\"M420,177.0 C420,2.0 925.0,2.0 925.0,177.0\" fill=\"none\" stroke=\"currentColor\"/>\n",
       "    <text dy=\"1.25em\" style=\"font-size: 0.8em; letter-spacing: 1px\">\n",
       "        <textPath xlink:href=\"#arrow-85f152c7efa04a7897bf36f08325a67c-0-4\" class=\"displacy-label\" startOffset=\"50%\" side=\"left\" fill=\"currentColor\" text-anchor=\"middle\">obl</textPath>\n",
       "    </text>\n",
       "    <path class=\"displacy-arrowhead\" d=\"M925.0,179.0 L933.0,167.0 917.0,167.0\" fill=\"currentColor\"/>\n",
       "</g>\n",
       "\n",
       "<g class=\"displacy-arrow\">\n",
       "    <path class=\"displacy-arc\" id=\"arrow-85f152c7efa04a7897bf36f08325a67c-0-5\" stroke-width=\"2px\" d=\"M945,177.0 C945,89.5 1095.0,89.5 1095.0,177.0\" fill=\"none\" stroke=\"currentColor\"/>\n",
       "    <text dy=\"1.25em\" style=\"font-size: 0.8em; letter-spacing: 1px\">\n",
       "        <textPath xlink:href=\"#arrow-85f152c7efa04a7897bf36f08325a67c-0-5\" class=\"displacy-label\" startOffset=\"50%\" side=\"left\" fill=\"currentColor\" text-anchor=\"middle\">dep</textPath>\n",
       "    </text>\n",
       "    <path class=\"displacy-arrowhead\" d=\"M1095.0,179.0 L1103.0,167.0 1087.0,167.0\" fill=\"currentColor\"/>\n",
       "</g>\n",
       "</svg></span>"
      ],
      "text/plain": [
       "<IPython.core.display.HTML object>"
      ]
     },
     "metadata": {},
     "output_type": "display_data"
    }
   ],
   "source": [
    "# Загружаем русскую языковую модель большого размера\n",
    "en_nlp = ru_core_news_lg.load()\n",
    "# Применяем модель к тексту, создавая объект Doc\n",
    "doc = en_nlp(text)\n",
    "# Визуализируем синтаксические зависимости в тексте\n",
    "displacy.render(doc, style=\"dep\")"
   ]
  },
  {
   "cell_type": "markdown",
   "id": "2823848b-c74a-4dd4-99b4-0eefc6afa261",
   "metadata": {},
   "source": [
    "## Семантический анализ текста"
   ]
  },
  {
   "cell_type": "markdown",
   "id": "dde8fd95-5291-45aa-a1be-1003710e5ac4",
   "metadata": {},
   "source": [
    "Семантический анализ текста - это способ понимания значения слов и их связей в предложении или тексте. \n",
    "\n",
    "Когда мы читаем или слушаем текст, мы не просто видим отдельные слова, но и стараемся понять, о чем идет речь, какие мысли автор хочет передать. Семантический анализ помогает нам в этом.\n",
    "\n",
    "Для понимания смысла текста нам нужно знать значения слов и как они сочетаются друг с другом. Например, если мы видим слова \"кот\" и \"мышь\", мы понимаем, что кот может поймать мышь, потому что это типичное поведение котов. Это понимание значений слов и их связей - это и есть семантический анализ.\n",
    "\n",
    "Семантический анализ также помогает нам понять отношения между предложениями или частями текста. Например, если в одном предложении говорится \"Кот поймал мышь\", а в другом \"Мышь попыталась убежать\", мы понимаем, что первое предложение описывает действие, которое произошло до второго.\n",
    "\n",
    "Таким образом, семантический анализ текста помогает нам не просто читать слова, а понимать, о чем речь и какие мысли или идеи автор хочет передать."
   ]
  },
  {
   "cell_type": "markdown",
   "id": "1c5a8c75-8e43-4ac4-86c6-cea3ef504674",
   "metadata": {},
   "source": [
    "### Установка библиотек"
   ]
  },
  {
   "cell_type": "code",
   "execution_count": 22,
   "id": "61aaf21f-34db-46d5-a59a-55e77fffa8ee",
   "metadata": {},
   "outputs": [],
   "source": [
    "!pip install textblob\n",
    "!pip install spacy\n",
    "!pip install dostoevsky\n",
    "!python3 -m dostoevsky download fasttext-social-network-model\n",
    "clear_output()"
   ]
  },
  {
   "cell_type": "markdown",
   "id": "ce2eae1f-99c8-4618-b1e0-4d7b30c6fb68",
   "metadata": {},
   "source": [
    "### Импорт библиотек"
   ]
  },
  {
   "cell_type": "code",
   "execution_count": 24,
   "id": "fe389b10-2c3f-4681-80b7-709367a832e2",
   "metadata": {},
   "outputs": [
    {
     "name": "stdout",
     "output_type": "stream",
     "text": [
      "Модель установлена\n"
     ]
    }
   ],
   "source": [
    "import spacy\n",
    "from nltk import Tree\n",
    "from spacy import displacy\n",
    "try:\n",
    "    importlib.import_module('ru_core_news_lg')\n",
    "    print(f\"Модель установлена\")\n",
    "except ImportError:\n",
    "    print(f\"Модель не найдена. Загружаем...\")\n",
    "    !python -m spacy download ru_core_news_lg\n",
    "    clear_output()\n",
    "finally:\n",
    "    import ru_core_news_lg\n",
    "\n",
    "from dostoevsky.tokenization import RegexTokenizer\n",
    "from dostoevsky.models import FastTextSocialNetworkModel"
   ]
  },
  {
   "cell_type": "markdown",
   "id": "5e4ac718-221e-4ef4-8fe5-baee99a66e0c",
   "metadata": {},
   "source": [
    "### Ввод текста"
   ]
  },
  {
   "cell_type": "code",
   "execution_count": null,
   "id": "b8d672c1-389c-4112-9707-bef95d37e585",
   "metadata": {},
   "outputs": [],
   "source": [
    "text = \"\"\"\n",
    "Сидоров, ты тупой!\n",
    "\"\"\""
   ]
  },
  {
   "cell_type": "markdown",
   "id": "a2c70525-7d7d-424b-92c3-e0c558761c7c",
   "metadata": {},
   "source": [
    "### Извлечение именованных сущностей"
   ]
  },
  {
   "cell_type": "code",
   "execution_count": null,
   "id": "f0990072-b188-46e0-831e-c27acf4ffdc8",
   "metadata": {},
   "outputs": [],
   "source": [
    "en_nlp = ru_core_news_lg.load()\n",
    "doc = en_nlp(text)\n",
    "for named_entity in doc.ents:\n",
    "    label = named_entity.label_\n",
    "    explain_label = spacy.explain(label)\n",
    "    print(f\"{named_entity}: {label} ({explain_label})\")"
   ]
  },
  {
   "cell_type": "markdown",
   "id": "b50d8e0a-1a6c-4dcd-b709-940e826c071d",
   "metadata": {},
   "source": [
    "### Анализ тональности\n",
    "https://github.com/bureaucratic-labs/dostoevsky/tree/master"
   ]
  },
  {
   "cell_type": "code",
   "execution_count": null,
   "id": "a2b84088-c759-4168-b83a-7ae1cee2863c",
   "metadata": {},
   "outputs": [],
   "source": [
    "tokenizer = RegexTokenizer()\n",
    "model = FastTextSocialNetworkModel(tokenizer=tokenizer)\n",
    "\n",
    "results = model.predict([text], k=5)[0]\n",
    "print(\"\\n\".join([f\"{key}: {value}\" for key, value in results.items()]))"
   ]
  },
  {
   "cell_type": "code",
   "execution_count": null,
   "id": "46c971ce-58cf-4554-99e8-c36f610f5d90",
   "metadata": {},
   "outputs": [],
   "source": []
  }
 ],
 "metadata": {
  "kernelspec": {
   "display_name": "Python 3 (ipykernel)",
   "language": "python",
   "name": "python3"
  },
  "language_info": {
   "codemirror_mode": {
    "name": "ipython",
    "version": 3
   },
   "file_extension": ".py",
   "mimetype": "text/x-python",
   "name": "python",
   "nbconvert_exporter": "python",
   "pygments_lexer": "ipython3",
   "version": "3.8.19"
  }
 },
 "nbformat": 4,
 "nbformat_minor": 5
}
