{
 "cells": [
  {
   "cell_type": "markdown",
   "id": "a370e579-7c1e-4b7f-b2de-b6a7c71fdfdd",
   "metadata": {},
   "source": [
    "# Установка необходимых библиотек и зависимостей"
   ]
  },
  {
   "cell_type": "code",
   "execution_count": null,
   "id": "6bb93587-4164-4452-8341-92aa860787a4",
   "metadata": {},
   "outputs": [],
   "source": [
    "from IPython.display import clear_output"
   ]
  },
  {
   "cell_type": "markdown",
   "id": "4c8245fd-0f00-4abd-b192-75ae896dcd35",
   "metadata": {},
   "source": [
    "**Natural Language Toolkit (NLTK)**: Библиотека Python для работы с естественными языками. Она включает инструменты для обработки текста, такие как токенизация, парсинг, классификация и т.д.\n",
    "\n",
    "Применение: Анализ текста, NLP (Natural Language Processing), создание чат-ботов."
   ]
  },
  {
   "cell_type": "code",
   "execution_count": null,
   "id": "5b5a7648-2b14-4e2b-ab50-a8bafde933f2",
   "metadata": {},
   "outputs": [],
   "source": [
    "!pip install nltk\n",
    "# clear_output()"
   ]
  },
  {
   "cell_type": "markdown",
   "id": "c60bc266-0284-41d2-81a2-c7bdcf1bc7f7",
   "metadata": {},
   "source": [
    "**PyMystem3**: Обертка для MyStem, морфологического анализатора от Яндекса. Используется для лемматизации и морфологического анализа русского текста.\n",
    "\n",
    "Применение: Лемматизация и морфологический анализ русского текста."
   ]
  },
  {
   "cell_type": "code",
   "execution_count": null,
   "id": "8a5cb5dd-a2e8-412e-8790-a38194e44c71",
   "metadata": {},
   "outputs": [],
   "source": [
    "!pip install pymystem3\n",
    "# clear_output()"
   ]
  },
  {
   "cell_type": "markdown",
   "id": "0049f555-b0cd-4bca-9540-ac462823180f",
   "metadata": {},
   "source": [
    "**GoogleTrans**: Библиотека для использования Google Translate API. Предоставляет возможности перевода текста на различные языки.\n",
    "\n",
    "Применение: Перевод текста между различными языками."
   ]
  },
  {
   "cell_type": "code",
   "execution_count": null,
   "id": "44f6a13e-0795-4253-8d9f-239d20057a94",
   "metadata": {},
   "outputs": [],
   "source": [
    "!pip install googletrans==4.0.0-rc1\n",
    "# clear_output()"
   ]
  },
  {
   "cell_type": "markdown",
   "id": "96e8a95a-c4f6-4f04-9416-4f23d92dbcb9",
   "metadata": {},
   "source": [
    "**PyaSpeller**: Обертка для Yandex Speller API, используемая для проверки орфографии в текстах на русском языке.\n",
    "\n",
    "Применение: Проверка и исправление орфографических ошибок в русском тексте."
   ]
  },
  {
   "cell_type": "code",
   "execution_count": null,
   "id": "ebbe5ec5-b96b-438a-a4b9-d92a9e11683f",
   "metadata": {},
   "outputs": [],
   "source": [
    "!pip install pyaspeller\n",
    "# clear_output()"
   ]
  },
  {
   "cell_type": "markdown",
   "id": "e8dfd8ad-7ec4-4406-a65f-407098b95a31",
   "metadata": {},
   "source": [
    "**SkLearn**: Библиотека для машинного обучения на Python, включающая разнообразные алгоритмы для классификации, регрессии, кластеризации и т.д.\n",
    "\n",
    "Применение: Модели машинного обучения, анализ данных, создание предсказательных моделей."
   ]
  },
  {
   "cell_type": "code",
   "execution_count": null,
   "id": "8d68231c-f8bf-4193-a789-2a523ba6dc84",
   "metadata": {},
   "outputs": [],
   "source": [
    "!pip install scikit-learn\n",
    "# clear_output()"
   ]
  },
  {
   "cell_type": "markdown",
   "id": "d9812944-914c-490c-a06d-bf6fc79da9b5",
   "metadata": {},
   "source": [
    "**Pandas:** Библиотека для работы с данными, предоставляющая структуры данных и функции для их обработки и анализа.\n",
    "\n",
    "Применение: Обработка и анализ данных, манипуляции с табличными данными."
   ]
  },
  {
   "cell_type": "code",
   "execution_count": null,
   "id": "3ded4521-cd88-4982-a976-64de043aa5f8",
   "metadata": {},
   "outputs": [],
   "source": [
    "!pip install pandas\n",
    "# clear_output()"
   ]
  },
  {
   "cell_type": "markdown",
   "id": "0669e359-7679-4322-8abd-fc5476d76c26",
   "metadata": {},
   "source": [
    "**Seaborn**: Библиотека для визуализации данных, построенная на базе matplotlib. Облегчает создание информативных и привлекательных графиков.\n",
    "\n",
    "Применение: Визуализация данных, создание статистических графиков."
   ]
  },
  {
   "cell_type": "code",
   "execution_count": null,
   "id": "3af52ab8-861c-4bfa-b1ca-02d6d6a848bc",
   "metadata": {},
   "outputs": [],
   "source": [
    "!pip install seaborn\n",
    "# clear_output()"
   ]
  },
  {
   "cell_type": "markdown",
   "id": "a61da5d2-bcd3-4ce0-bc02-a8157afaae2b",
   "metadata": {},
   "source": [
    "**PyMorphy**: Библиотека для морфологического анализа русского языка, поддерживающая лемматизацию, разбор слов и т.д. + словари **pymorphy2-dicts-ru** для pymorphy2, необходимые для работы библиотеки с русским языком.\n",
    "\n",
    "Применение: Морфологический анализ русского текста, лемматизация."
   ]
  },
  {
   "cell_type": "code",
   "execution_count": null,
   "id": "64378f03-06aa-4910-bb3b-b751b37cf254",
   "metadata": {},
   "outputs": [],
   "source": [
    "!pip install pymorphy2\n",
    "!pip install pymorphy3\n",
    "!pip install pymorphy2-dicts-ru\n",
    "# clear_output()"
   ]
  },
  {
   "cell_type": "markdown",
   "id": "8dafcf5f-bce0-4a56-b354-3bc33bb42eb1",
   "metadata": {},
   "source": [
    "**Spacy**: Библиотека для NLP с поддержкой глубокого обучения. Включает в себя токенизацию, POS-теггинг, парсинг зависимостей и многое другое.\n",
    "\n",
    "Применение: NLP задачи, такие как named entity recognition, POS-теггинг, парсинг зависимостей."
   ]
  },
  {
   "cell_type": "code",
   "execution_count": null,
   "id": "23eeb057-7752-4e21-99c8-217549857b3e",
   "metadata": {},
   "outputs": [],
   "source": [
    "!pip install spacy\n",
    "# clear_output()"
   ]
  },
  {
   "cell_type": "markdown",
   "id": "99bb73f7-52ba-4db2-8724-c892dcb5cff5",
   "metadata": {},
   "source": [
    "**Textblob**: Библиотека для обработки текста, предоставляющая API для обработки текстовых данных, включая перевод, извлечение n-грамм и анализ тональности.\n",
    "\n",
    "Применение: Простой NLP, анализ тональности текста, перевод текста"
   ]
  },
  {
   "cell_type": "code",
   "execution_count": null,
   "id": "3665c02f-5295-4efc-ac71-2f52293d9363",
   "metadata": {},
   "outputs": [],
   "source": [
    "!pip install textblob\n",
    "# clear_output()"
   ]
  },
  {
   "cell_type": "markdown",
   "id": "1289005f-2089-44fc-b3d2-e9480c3bff6d",
   "metadata": {},
   "source": [
    "**Torch**: Одна из ведущих библиотек для глубокого обучения. Используется для построения и обучения нейронных сетей.\n",
    "\n",
    "Применение: Глубокое обучение, обучение нейронных сетей."
   ]
  },
  {
   "cell_type": "code",
   "execution_count": null,
   "id": "a6e76667-c464-4398-82ac-75e99443d78a",
   "metadata": {},
   "outputs": [],
   "source": [
    "!pip install torch\n",
    "# clear_output()"
   ]
  },
  {
   "cell_type": "markdown",
   "id": "0ad43240-f9eb-4db7-b3a2-776e1425c0a7",
   "metadata": {},
   "source": [
    "**Transformers**: Библиотека от Hugging Face для работы с моделями трансформеров. Поддерживает множество предобученных моделей для NLP.\n",
    "\n",
    "Применение: NLP задачи, использование и обучение моделей трансформеров, таких как BERT, GPT."
   ]
  },
  {
   "cell_type": "code",
   "execution_count": null,
   "id": "613c6af2-95b7-40b5-96a0-f6109e324df3",
   "metadata": {},
   "outputs": [],
   "source": [
    "!pip install transformers\n",
    "# clear_output()"
   ]
  },
  {
   "cell_type": "markdown",
   "id": "86606cee-3d5c-4fd1-9720-9e07b8e0130b",
   "metadata": {},
   "source": [
    "**Gensim**: Библиотека для тематического моделирования и обработки текстов. Поддерживает алгоритмы, такие как word2vec, doc2vec и LDA.\n",
    "\n",
    "Применение: Тематическое моделирование, векторизация текста."
   ]
  },
  {
   "cell_type": "code",
   "execution_count": null,
   "id": "1bd20ba6-27ec-4af6-ad8d-8e35e3aeb89a",
   "metadata": {},
   "outputs": [],
   "source": [
    "!pip install gensim\n",
    "# clear_output()"
   ]
  },
  {
   "cell_type": "markdown",
   "id": "b3564ac1-8ac1-4f00-ba07-edbe1948c526",
   "metadata": {},
   "source": [
    "**Openpyxl**: Библиотека для работы с файлами Excel (формат xlsx). Позволяет читать, писать и изменять электронные таблицы.\n",
    "\n",
    "Применение: Обработка файлов Excel, чтение и запись данных в Excel."
   ]
  },
  {
   "cell_type": "code",
   "execution_count": null,
   "id": "d73a046d-f4c5-4d68-af07-d9b08cdffd7b",
   "metadata": {},
   "outputs": [],
   "source": [
    "!pip install openpyxl\n",
    "# clear_output()"
   ]
  },
  {
   "cell_type": "markdown",
   "id": "2ecb370b-9c8b-42d5-a1d5-74dbe3573d72",
   "metadata": {},
   "source": [
    "**WordCloud**: Библиотека для создания облаков слов из текста. Позволяет визуализировать наиболее частые слова в тексте.\n",
    "\n",
    "Применение: Визуализация текстовых данных, создание облаков слов."
   ]
  },
  {
   "cell_type": "code",
   "execution_count": null,
   "id": "2e64097b-1387-49a7-af2c-107d41b18d2d",
   "metadata": {},
   "outputs": [],
   "source": [
    "!pip install wordcloud\n",
    "# clear_output()"
   ]
  },
  {
   "cell_type": "markdown",
   "id": "25380398-abe7-425e-a134-905c1b1f2f9a",
   "metadata": {},
   "source": [
    "**SentencePiece**: Библиотека для токенизации текста, разработанная Google\n",
    "\n",
    "Применение: Подготовка текста для задач обработки естественного языка (NLP), включая обучение и использование моделей трансформеров. SentencePiece часто используется для создания токенизаторов, совместимых с предобученными моделями, такими как BERT, T5 и другими"
   ]
  },
  {
   "cell_type": "code",
   "execution_count": null,
   "id": "b53330fc-fe30-4608-8309-477c34ad20c1",
   "metadata": {},
   "outputs": [],
   "source": [
    "!pip install sentencepiece\n",
    "# clear_output()"
   ]
  },
  {
   "cell_type": "markdown",
   "id": "832f166a-4a23-4d0e-81d5-bb1fdb1a2e7a",
   "metadata": {},
   "source": [
    "Загрузка пакетов:\n",
    "- **'punkt'**, который включает в себя модель для токенизации текста (разбиения текста на предложения и слова)\n",
    "- **'stopwords'**, который включает в себя список стоп-слов"
   ]
  },
  {
   "cell_type": "code",
   "execution_count": null,
   "id": "7f5eb3fe-60d8-4680-add2-7508e1b7f6b5",
   "metadata": {},
   "outputs": [],
   "source": [
    "import nltk\n",
    "nltk.download('punkt')\n",
    "nltk.download('stopwords')\n",
    "# clear_output()"
   ]
  },
  {
   "cell_type": "markdown",
   "id": "49cd6e4e-edb4-4d1c-ac09-383c1d3c6cb3",
   "metadata": {},
   "source": [
    "Загрузка большой модели для русского языка, предоставляемая библиотекой spaCy. Она включает в себя различные компоненты NLP, такие как токенизация, POS-теггинг (части речи), лемматизация, синтаксический анализ и распознавание именованных сущностей."
   ]
  },
  {
   "cell_type": "code",
   "execution_count": null,
   "id": "625902bf-c328-44af-a2a6-45d2e7e9105f",
   "metadata": {},
   "outputs": [],
   "source": [
    "!python -m spacy download ru_core_news_lg\n",
    "# clear_output()"
   ]
  },
  {
   "cell_type": "code",
   "execution_count": null,
   "id": "075204f9-df11-49ad-b750-ca7863879db2",
   "metadata": {},
   "outputs": [],
   "source": []
  }
 ],
 "metadata": {
  "kernelspec": {
   "display_name": "Python 3 (ipykernel)",
   "language": "python",
   "name": "python3"
  },
  "language_info": {
   "codemirror_mode": {
    "name": "ipython",
    "version": 3
   },
   "file_extension": ".py",
   "mimetype": "text/x-python",
   "name": "python",
   "nbconvert_exporter": "python",
   "pygments_lexer": "ipython3",
   "version": "3.8.19"
  }
 },
 "nbformat": 4,
 "nbformat_minor": 5
}
