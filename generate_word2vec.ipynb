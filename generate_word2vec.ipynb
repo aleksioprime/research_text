{
 "cells": [
  {
   "cell_type": "markdown",
   "id": "76b0f86f",
   "metadata": {},
   "source": [
    "# Генерация текста с использованием Word2Vec"
   ]
  },
  {
   "cell_type": "markdown",
   "id": "f1f265d1",
   "metadata": {},
   "source": [
    "Метод Word2Vec помогает компьютеру представлять слова как числа, чтобы он мог работать с ними так же, как мы работаем с числами в математике.\n",
    "\n",
    "Принцип работы:\n",
    "\n",
    "1. Мы представляем каждое слово как набор чисел. Например, слово \"книга\" может быть представлено как список из 100 чисел, скажем, [0.2, -0.3, 0.5, ...].\n",
    "2. Мы показываем компьютеру много предложений, чтобы он понял, какие слова часто встречаются рядом друг с другом. Например, слова \"собака\" и \"лай\" часто встречаются вместе, а слова \"собака\" и \"школа\" — реже.\n",
    "3. Компьютер создает специальную модель, которая запоминает эти связи. Эта модель превращает каждое слово в список чисел таким образом, что слова с похожим значением имеют похожие списки чисел. Например, слова \"собака\" и \"щенок\" будут иметь очень похожие списки чисел, потому что они часто используются в похожих ситуациях.\n",
    "\n",
    "Пример\n",
    "\n",
    "Представим, что мы дали компьютеру много предложений, например:\n",
    "\n",
    "- \"Кошка сидит на диване.\"\n",
    "- \"Собака лает на кошку.\"\n",
    "- \"Кошка и собака спят.\"\n",
    "\n",
    "После обучения компьютер может понять, что \"кошка\" и \"собака\" связаны с \"диван\", \"лает\" и \"спят\". Если мы попросим компьютер найти похожие слова к слову \"кошка\", он может предложить слово \"собака\", потому что они часто встречаются в похожих предложениях."
   ]
  },
  {
   "cell_type": "code",
   "execution_count": 1,
   "id": "27b97278-d940-4bc2-9f6a-9ba40425d701",
   "metadata": {},
   "outputs": [],
   "source": [
    "import os\n",
    "\n",
    "dir_export = 'export'\n",
    "os.makedirs(dir_export, exist_ok=True)"
   ]
  },
  {
   "cell_type": "code",
   "execution_count": 6,
   "id": "45fbfb13-40fa-4fa3-bdff-431fdccc008c",
   "metadata": {},
   "outputs": [
    {
     "name": "stdout",
     "output_type": "stream",
     "text": [
      "Collecting gensim\n",
      "  Downloading gensim-4.3.2-cp39-cp39-macosx_11_0_arm64.whl.metadata (8.5 kB)\n",
      "Requirement already satisfied: numpy>=1.18.5 in /opt/anaconda3/envs/analyze/lib/python3.9/site-packages (from gensim) (1.23.5)\n",
      "Requirement already satisfied: scipy>=1.7.0 in /opt/anaconda3/envs/analyze/lib/python3.9/site-packages (from gensim) (1.10.0)\n",
      "Requirement already satisfied: smart-open>=1.8.1 in /opt/anaconda3/envs/analyze/lib/python3.9/site-packages (from gensim) (6.4.0)\n",
      "Downloading gensim-4.3.2-cp39-cp39-macosx_11_0_arm64.whl (24.0 MB)\n",
      "\u001b[2K   \u001b[90m━━━━━━━━━━━━━━━━━━━━━━━━━━━━━━━━━━━━━━━━\u001b[0m \u001b[32m24.0/24.0 MB\u001b[0m \u001b[31m10.1 MB/s\u001b[0m eta \u001b[36m0:00:00\u001b[0m00:01\u001b[0m0:01\u001b[0mm\n",
      "\u001b[?25hInstalling collected packages: gensim\n",
      "Successfully installed gensim-4.3.2\n"
     ]
    }
   ],
   "source": [
    "!pip install gensim"
   ]
  },
  {
   "cell_type": "markdown",
   "id": "cce0e351",
   "metadata": {},
   "source": [
    "### Импорт необходимых библиотек"
   ]
  },
  {
   "cell_type": "code",
   "execution_count": 2,
   "id": "b7f6bf21",
   "metadata": {},
   "outputs": [],
   "source": [
    "import re\n",
    "from nltk.tokenize import word_tokenize\n",
    "from nltk.corpus import stopwords"
   ]
  },
  {
   "cell_type": "markdown",
   "id": "e9ab40bd",
   "metadata": {},
   "source": [
    "### Вставка отрывка из текста"
   ]
  },
  {
   "cell_type": "code",
   "execution_count": 3,
   "id": "e20aeb7f",
   "metadata": {},
   "outputs": [],
   "source": [
    "text = \"\"\"\n",
    "Ну, князь, Генуя и Лукка стали не больше как поместьями семейства Бонапарте. Нет, я предупреждаю, если вы не скажете, что война неизбежна, если вы все еще будете защищать все гадости, все ужасы этого Антихриста (уж я верю в это), я вас больше не знаю, вы уж не друг мой, вы уж не мой верный раб, как говорите.\n",
    "\"\"\""
   ]
  },
  {
   "cell_type": "markdown",
   "id": "7d970b13",
   "metadata": {},
   "source": [
    "### Предобработка текста и токенизация"
   ]
  },
  {
   "cell_type": "code",
   "execution_count": 4,
   "id": "2d785bc7",
   "metadata": {},
   "outputs": [
    {
     "name": "stdout",
     "output_type": "stream",
     "text": [
      "['князь', 'генуя', 'лукка', 'стали', 'поместьями', 'семейства', 'бонапарте', 'предупреждаю', 'скажете', 'война', 'неизбежна', 'будете', 'защищать', 'гадости', 'ужасы', 'антихриста', 'верю', 'это', 'знаю', 'друг', 'верный', 'раб', 'говорите']\n"
     ]
    }
   ],
   "source": [
    "# Удаление пунктуации и приведение к нижнему регистру\n",
    "text = re.sub(r'[^\\w\\s]', '', text.lower())\n",
    "\n",
    "# Токенизация\n",
    "tokens = word_tokenize(text, language='russian')\n",
    "\n",
    "# Удаление стоп-слов\n",
    "stop_words = set(stopwords.words('russian'))\n",
    "tokens = [word for word in tokens if word not in stop_words]\n",
    "\n",
    "print(tokens)"
   ]
  },
  {
   "cell_type": "markdown",
   "id": "79302ecd",
   "metadata": {},
   "source": [
    "### Обучение модели Word2Vec"
   ]
  },
  {
   "cell_type": "code",
   "execution_count": 8,
   "id": "e3fab606",
   "metadata": {},
   "outputs": [],
   "source": [
    "from gensim.models import Word2Vec\n",
    "\n",
    "# Обучение модели Word2Vec\n",
    "model = Word2Vec([tokens], vector_size=100, window=5, min_count=1, workers=4)\n",
    "\n",
    "# Сохранение модели для последующего использования\n",
    "model_filename = os.path.join(dir_export, \"word2vec_russian_model\")\n",
    "model.save(model_filename)"
   ]
  },
  {
   "cell_type": "markdown",
   "id": "44c5ab70",
   "metadata": {},
   "source": [
    "### Генерация текста\n",
    "\n",
    "Предсказывание следующего слова на основе текущего контекста"
   ]
  },
  {
   "cell_type": "code",
   "execution_count": 9,
   "id": "6b1cc497",
   "metadata": {},
   "outputs": [
    {
     "name": "stdout",
     "output_type": "stream",
     "text": [
      "князь верный раб стали семейства стали генуя защищать генуя поместьями это князь князь защищать семейства раб верный защищать стали генуя князь\n"
     ]
    }
   ],
   "source": [
    "import random\n",
    "\n",
    "# Функция для генерации текста\n",
    "def generate_text(model, seed_text, max_length=20):\n",
    "    result = seed_text.copy()\n",
    "    for _ in range(max_length):\n",
    "        # Получаем векторы для текущих слов\n",
    "        word_vectors = [model.wv[word] for word in result if word in model.wv]\n",
    "        if not word_vectors:\n",
    "            break\n",
    "        # Средний вектор\n",
    "        mean_vector = sum(word_vectors) / len(word_vectors)\n",
    "        # Находим наиболее похожие слова\n",
    "        similar_words = model.wv.similar_by_vector(mean_vector, topn=10)\n",
    "        # Выбираем случайное слово из топ-10 наиболее похожих\n",
    "        next_word = random.choice(similar_words)[0]\n",
    "        result.append(next_word)\n",
    "    return ' '.join(result)\n",
    "\n",
    "# Начальное слово\n",
    "seed_text = ['князь']\n",
    "\n",
    "# Генерация текста\n",
    "generated_text = generate_text(model, seed_text)\n",
    "print(generated_text)"
   ]
  },
  {
   "cell_type": "code",
   "execution_count": null,
   "id": "4041718d",
   "metadata": {},
   "outputs": [],
   "source": []
  }
 ],
 "metadata": {
  "kernelspec": {
   "display_name": "Python 3 (ipykernel)",
   "language": "python",
   "name": "python3"
  },
  "language_info": {
   "codemirror_mode": {
    "name": "ipython",
    "version": 3
   },
   "file_extension": ".py",
   "mimetype": "text/x-python",
   "name": "python",
   "nbconvert_exporter": "python",
   "pygments_lexer": "ipython3",
   "version": "3.9.19"
  }
 },
 "nbformat": 4,
 "nbformat_minor": 5
}
