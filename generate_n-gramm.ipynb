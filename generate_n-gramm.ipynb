{
 "cells": [
  {
   "cell_type": "markdown",
   "id": "795459a8",
   "metadata": {},
   "source": [
    "# Генерация текста с использованием N-грамм"
   ]
  },
  {
   "cell_type": "markdown",
   "id": "7906e432",
   "metadata": {},
   "source": [
    "Представим, что мы читаем книгу, и чтобы понять следующее слово, мы смотрим на несколько предыдущих слов. Этот подход называется n-граммами. В n-граммах мы рассматриваем группы из n слов, чтобы предсказывать следующее слово.\n",
    "\n",
    "Принцип работы:\n",
    "\n",
    "1. Мы берем текст и делим его на группы из n слов. Например, если мы используем 2-граммы (группы по 2 слова), то в предложении \"Кошка сидит на диване\" будут такие группы:\n",
    "\n",
    "- \"Кошка сидит\"\n",
    "- \"сидит на\"\n",
    "- \"на диване\"\n",
    "\n",
    "2. Мы запоминаем, какие слова часто идут вместе. Например, если в тексте часто встречаются фразы \"Кошка сидит\" и \"сидит на\", мы это запомним.\n",
    "\n",
    "3. Когда мы хотим сгенерировать новый текст, мы начинаем с какого-то слова или фразы. Затем смотрим, какие слова чаще всего следуют за этим словом или фразой, и добавляем одно из них. Повторяем этот процесс, чтобы получить целое предложение.\n",
    "\n",
    "Рассмотрим пример генерации текста с помощью 2-грамм (би-грамм):\n",
    "\n",
    "Обучение:\n",
    "\n",
    "Допустим, у нас есть текст: \"Кошка сидит на диване. Собака лежит на ковре.\"\n",
    "Мы делим текст на би-граммы:\n",
    "\n",
    "- \"Кошка сидит\"\n",
    "- \"сидит на\"\n",
    "- \"на диване\"\n",
    "- \"Собака лежит\"\n",
    "- \"лежит на\"\n",
    "- \"на ковре\"\n",
    "\n",
    "Генерация:\n",
    "\n",
    "Теперь мы хотим сгенерировать новое предложение. Начнем с первого слова \"Кошка\":\n",
    "\n",
    "- \"Кошка\" -> Следующее слово в нашей модели: \"сидит\"\n",
    "- \"Кошка сидит\" -> Следующее слово: \"на\"\n",
    "- \"сидит на\" -> Следующее слово: \"диване\"\n",
    "\n",
    "Таким образом, наше новое предложение будет: \"Кошка сидит на диване.\""
   ]
  },
  {
   "cell_type": "markdown",
   "id": "5d68873f-1530-486b-a0fc-8fc30e901ae5",
   "metadata": {},
   "source": [
    "### Подготовка среды"
   ]
  },
  {
   "cell_type": "code",
   "execution_count": 1,
   "id": "33b5e84d-1c3f-4c49-bb60-7acb1e0706d2",
   "metadata": {},
   "outputs": [],
   "source": [
    "from IPython.display import clear_output\n",
    "\n",
    "!pip install nltk\n",
    "clear_output()"
   ]
  },
  {
   "cell_type": "markdown",
   "id": "50e40888",
   "metadata": {},
   "source": [
    "### Импорт библиотек"
   ]
  },
  {
   "cell_type": "code",
   "execution_count": 2,
   "id": "ea24861d",
   "metadata": {},
   "outputs": [
    {
     "name": "stderr",
     "output_type": "stream",
     "text": [
      "[nltk_data] Downloading package punkt to\n",
      "[nltk_data]     /Users/aleksioprime/nltk_data...\n",
      "[nltk_data]   Package punkt is already up-to-date!\n"
     ]
    },
    {
     "data": {
      "text/plain": [
       "True"
      ]
     },
     "execution_count": 2,
     "metadata": {},
     "output_type": "execute_result"
    }
   ],
   "source": [
    "import nltk\n",
    "nltk.download('punkt')"
   ]
  },
  {
   "cell_type": "code",
   "execution_count": 3,
   "id": "e7dcdcdd",
   "metadata": {},
   "outputs": [],
   "source": [
    "from nltk import ngrams, word_tokenize\n",
    "import random\n",
    "from collections import defaultdict, Counter\n",
    "import re"
   ]
  },
  {
   "cell_type": "markdown",
   "id": "0283b8d8",
   "metadata": {},
   "source": [
    "### Вставка отрывка из текста"
   ]
  },
  {
   "cell_type": "code",
   "execution_count": 4,
   "id": "31a67b9b",
   "metadata": {},
   "outputs": [],
   "source": [
    "text = \"\"\"\n",
    "Кошка сидит на диване. Собака лежит на ковре.\"\n",
    "\"\"\""
   ]
  },
  {
   "cell_type": "markdown",
   "id": "a019be8a",
   "metadata": {},
   "source": [
    "### Обработка и токенизация текста"
   ]
  },
  {
   "cell_type": "code",
   "execution_count": 5,
   "id": "0f620ae7",
   "metadata": {},
   "outputs": [
    {
     "name": "stdout",
     "output_type": "stream",
     "text": [
      "['кошка', 'сидит', 'на', 'диване', 'собака', 'лежит', 'на', 'ковре']\n"
     ]
    }
   ],
   "source": [
    "tokens = nltk.word_tokenize(text.lower(), language='russian')\n",
    "tokens = [token for token in tokens if re.match(r'\\w+', token)]\n",
    "print(tokens)"
   ]
  },
  {
   "cell_type": "markdown",
   "id": "29c7366e",
   "metadata": {},
   "source": [
    "### Создание N-грамм"
   ]
  },
  {
   "cell_type": "code",
   "execution_count": 6,
   "id": "5ca2e806",
   "metadata": {},
   "outputs": [
    {
     "name": "stdout",
     "output_type": "stream",
     "text": [
      "[('кошка', 'сидит'), ('сидит', 'на'), ('на', 'диване'), ('диване', 'собака'), ('собака', 'лежит'), ('лежит', 'на'), ('на', 'ковре')]\n"
     ]
    }
   ],
   "source": [
    "n = 2\n",
    "test_grams = ngrams(tokens, n)\n",
    "print(list(test_grams))"
   ]
  },
  {
   "cell_type": "markdown",
   "id": "7a47543e",
   "metadata": {},
   "source": [
    "### Создание N-граммной модели"
   ]
  },
  {
   "cell_type": "code",
   "execution_count": 7,
   "id": "5c82739f",
   "metadata": {},
   "outputs": [
    {
     "name": "stdout",
     "output_type": "stream",
     "text": [
      "defaultdict(<class 'collections.Counter'>, {('кошка',): Counter({'сидит': 1}), ('сидит',): Counter({'на': 1}), ('на',): Counter({'диване': 1, 'ковре': 1}), ('диване',): Counter({'собака': 1}), ('собака',): Counter({'лежит': 1}), ('лежит',): Counter({'на': 1})})\n"
     ]
    }
   ],
   "source": [
    "# Функция для генерации N-грамм\n",
    "def generate_ngrams(tokens, n):\n",
    "    n_grams = ngrams(tokens, n)\n",
    "    ngrams_freq = defaultdict(Counter)\n",
    "    \n",
    "    for ngram in n_grams:\n",
    "        prefix = ngram[:-1]\n",
    "        suffix = ngram[-1]\n",
    "        ngrams_freq[prefix][suffix] += 1\n",
    "        \n",
    "    return ngrams_freq\n",
    "\n",
    "# Создание N-граммной модели\n",
    "ngrams_freq = generate_ngrams(tokens, n)\n",
    "print(ngrams_freq)"
   ]
  },
  {
   "cell_type": "markdown",
   "id": "4b888188",
   "metadata": {},
   "source": [
    "### Генерация текста"
   ]
  },
  {
   "cell_type": "code",
   "execution_count": 8,
   "id": "4b92058a",
   "metadata": {},
   "outputs": [
    {
     "name": "stdout",
     "output_type": "stream",
     "text": [
      "Сгенерированный текст: кошка сидит на ковре\n"
     ]
    }
   ],
   "source": [
    "# Функция для генерации текста\n",
    "def generate_text(ngrams_freq, n, length):\n",
    "    # Выбор случайного начального префикса\n",
    "    start = random.choice(list(ngrams_freq.keys()))\n",
    "    result = list(start)\n",
    "    \n",
    "    for _ in range(length - len(start)):\n",
    "        prefix = tuple(result[-(n-1):])\n",
    "        suffixes = ngrams_freq[prefix]\n",
    "        if suffixes:\n",
    "            next_word = random.choices(list(suffixes.keys()), weights=suffixes.values())[0]\n",
    "            result.append(next_word)\n",
    "        else:\n",
    "            break\n",
    "        \n",
    "    return ' '.join(result)\n",
    "\n",
    "# Генерация текста длиной 50 слов\n",
    "generated_text = generate_text(ngrams_freq, n, 4)\n",
    "print(\"Сгенерированный текст:\", generated_text)"
   ]
  },
  {
   "cell_type": "code",
   "execution_count": null,
   "id": "2b3245bd",
   "metadata": {},
   "outputs": [],
   "source": []
  }
 ],
 "metadata": {
  "kernelspec": {
   "display_name": "Python 3 (ipykernel)",
   "language": "python",
   "name": "python3"
  },
  "language_info": {
   "codemirror_mode": {
    "name": "ipython",
    "version": 3
   },
   "file_extension": ".py",
   "mimetype": "text/x-python",
   "name": "python",
   "nbconvert_exporter": "python",
   "pygments_lexer": "ipython3",
   "version": "3.8.19"
  }
 },
 "nbformat": 4,
 "nbformat_minor": 5
}
