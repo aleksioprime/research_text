{
 "cells": [
  {
   "cell_type": "markdown",
   "id": "0115b2d2-d3e7-4109-a496-b473144a9782",
   "metadata": {},
   "source": [
    "# Обучение моделей NLP"
   ]
  },
  {
   "cell_type": "markdown",
   "id": "a2bafa24-3738-4698-9964-2aebd61324af",
   "metadata": {},
   "source": [
    "## Категоризация текстовых документов"
   ]
  },
  {
   "cell_type": "markdown",
   "id": "40520c23-614f-4dc0-86f8-100b4246bdb3",
   "metadata": {},
   "source": [
    "### Импорт библиотек"
   ]
  },
  {
   "cell_type": "code",
   "execution_count": null,
   "id": "aec0d3c2-26d5-48b0-bc16-3df6e02c0251",
   "metadata": {},
   "outputs": [],
   "source": [
    "import nltk\n",
    "from nltk.stem.snowball import SnowballStemmer\n",
    "from sklearn.feature_extraction.text import TfidfVectorizer\n",
    "from sklearn.model_selection import train_test_split\n",
    "from sklearn.naive_bayes import MultinomialNB\n",
    "from sklearn.metrics import accuracy_score, classification_report"
   ]
  },
  {
   "cell_type": "markdown",
   "id": "5038b2ae-3d06-4966-b9ba-e2d415877643",
   "metadata": {},
   "source": [
    "### Обучающие данные"
   ]
  },
  {
   "cell_type": "code",
   "execution_count": null,
   "id": "22ae4431-894b-49d4-956b-f61694a78256",
   "metadata": {},
   "outputs": [],
   "source": [
    "# Пример данных для обучения (новостные статьи и соответствующие им категории)\n",
    "news_articles = [\n",
    "    (\"Путин выступил на международной конференции\", \"Политика\"),\n",
    "    (\"Космический аппарат успешно достиг Марса\", \"Наука\"),\n",
    "    (\"Команда победила в чемпионате по футболу\", \"Спорт\"),\n",
    "    (\"Обнаружено новое заболевание, вызванное вирусом\", \"Здоровье\")\n",
    "]"
   ]
  },
  {
   "cell_type": "markdown",
   "id": "00ddea78-91ce-4ace-91d6-d32368c61b39",
   "metadata": {},
   "source": [
    "### Обработка данных"
   ]
  },
  {
   "cell_type": "code",
   "execution_count": null,
   "id": "0a2bb618-5132-4a14-9d06-f67b3def20f5",
   "metadata": {},
   "outputs": [],
   "source": [
    "# Предварительная обработка текста\n",
    "def preprocess_text(text):\n",
    "    # Токенизация текста\n",
    "    tokens = nltk.word_tokenize(text)\n",
    "    # Приведение к нижнему регистру\n",
    "    tokens = [token.lower() for token in tokens]\n",
    "    # Стемминг текста\n",
    "    stemmer = SnowballStemmer(\"russian\")\n",
    "    stemmed_tokens = [stemmer.stem(token) for token in tokens]\n",
    "    # Возвращение текста в виде строки\n",
    "    return ' '.join(stemmed_tokens)\n",
    "\n",
    "\n",
    "# Подготовка данных для обучения\n",
    "X = [preprocess_text(article[0]) for article in news_articles]\n",
    "y = [article[1] for article in news_articles]"
   ]
  },
  {
   "cell_type": "markdown",
   "id": "637d3555-3045-4c86-a4af-6af6a98ea1f5",
   "metadata": {},
   "source": [
    "### Обучение данных"
   ]
  },
  {
   "cell_type": "code",
   "execution_count": null,
   "id": "3b3a59a7-dc99-498a-9acc-2a94785b8d75",
   "metadata": {},
   "outputs": [],
   "source": [
    "# Создание TF-IDF векторов\n",
    "vectorizer = TfidfVectorizer()\n",
    "X = vectorizer.fit_transform(X)\n",
    "\n",
    "# Разделение данных на обучающую и тестовую выборки\n",
    "X_train, X_test, y_train, y_test = train_test_split(X, y, test_size=0.2, random_state=42)\n",
    "\n",
    "# Обучение модели классификации наивного Байеса\n",
    "model = MultinomialNB()\n",
    "model.fit(X_train, y_train)"
   ]
  },
  {
   "cell_type": "markdown",
   "id": "2a105ba3-1962-4367-8f13-fb6f594c6d79",
   "metadata": {},
   "source": [
    "### Оценка точности"
   ]
  },
  {
   "cell_type": "code",
   "execution_count": null,
   "id": "c6997232-7bae-498d-8fae-69658468d167",
   "metadata": {},
   "outputs": [],
   "source": [
    "# Оценка точности модели\n",
    "y_pred = model.predict(X_test)\n",
    "accuracy = accuracy_score(y_test, y_pred)\n",
    "print(\"Точность модели:\", accuracy)\n",
    "\n",
    "# Отчет о классификации\n",
    "print(classification_report(y_test, y_pred))"
   ]
  },
  {
   "cell_type": "markdown",
   "id": "273bed79-4e14-4b25-8084-1fe701a82ac1",
   "metadata": {},
   "source": [
    "### Использование модели"
   ]
  },
  {
   "cell_type": "code",
   "execution_count": null,
   "id": "be9e82a9-ed10-4e76-886d-d4a67bde71af",
   "metadata": {},
   "outputs": [],
   "source": [
    "new_article = \"Достигли новой планеты\""
   ]
  },
  {
   "cell_type": "code",
   "execution_count": null,
   "id": "f4a16a54-14a5-4f0f-90ee-d054c0ca68b8",
   "metadata": {},
   "outputs": [],
   "source": [
    "new_article = preprocess_text(new_article)\n",
    "new_article_vectorized = vectorizer.transform([new_article])\n",
    "prediction = model.predict(new_article_vectorized)\n",
    "print(\"Прогноз категории для новой статьи:\", prediction[0])"
   ]
  },
  {
   "cell_type": "markdown",
   "id": "9ae2c622-bfc1-4480-ba2f-45fcfcfa6142",
   "metadata": {},
   "source": [
    "## Cистема \"Чат-бот\""
   ]
  },
  {
   "cell_type": "markdown",
   "id": "23a0bb3d-5e5b-4974-b4ba-9e05b77d83f5",
   "metadata": {},
   "source": [
    "### Импорт библиотек"
   ]
  },
  {
   "cell_type": "code",
   "execution_count": null,
   "id": "c1f1fad9-9029-4cd5-8a77-d71471843f12",
   "metadata": {},
   "outputs": [],
   "source": [
    "import nltk\n",
    "from sklearn.feature_extraction.text import TfidfVectorizer\n",
    "from sklearn.naive_bayes import MultinomialNB\n",
    "from sklearn.pipeline import make_pipeline"
   ]
  },
  {
   "cell_type": "markdown",
   "id": "172ff8b1-e58c-47b8-8424-ea943161040e",
   "metadata": {},
   "source": [
    "### Обучающие данные"
   ]
  },
  {
   "cell_type": "code",
   "execution_count": null,
   "id": "39ef373d-7936-4ef0-8f44-a6ae0004595f",
   "metadata": {},
   "outputs": [],
   "source": [
    "questions = [\n",
    "    \"Как тебя зовут?\",\n",
    "    \"Как дела?\",\n",
    "    \"Что ты умеешь?\",\n",
    "    \"Чем занимаешься?\"\n",
    "]\n",
    "\n",
    "answers = [\n",
    "    \"Меня зовут ChatGPT. Я искусственный интеллект, созданный OpenAI.\",\n",
    "    \"У меня все отлично, спасибо за спрос.\",\n",
    "    \"Я могу отвечать на вопросы, помогать в решении задач и многое другое.\",\n",
    "    \"Я разговариваю с вами! :)\"\n",
    "]"
   ]
  },
  {
   "cell_type": "markdown",
   "id": "479ca7ab-bc39-4580-bb92-67afa4c0586a",
   "metadata": {},
   "source": [
    "### Обучение модели"
   ]
  },
  {
   "cell_type": "code",
   "execution_count": null,
   "id": "66fb29ed-ad45-4cf5-9ec1-f45fe0f9d7c5",
   "metadata": {},
   "outputs": [],
   "source": [
    "# Векторизация текста и обучение модели\n",
    "vectorizer = TfidfVectorizer()\n",
    "classifier = MultinomialNB()\n",
    "\n",
    "# Создание пайплайна\n",
    "model = make_pipeline(vectorizer, classifier)\n",
    "\n",
    "# Обучение модели\n",
    "model.fit(questions, answers)"
   ]
  },
  {
   "cell_type": "markdown",
   "id": "ef15ea41-8615-4963-aa41-5ddb6a2ade0d",
   "metadata": {},
   "source": [
    "### Использование модели"
   ]
  },
  {
   "cell_type": "code",
   "execution_count": null,
   "id": "8a99a3eb-6b34-417a-b1d1-47a48ffd9cef",
   "metadata": {},
   "outputs": [],
   "source": [
    "# Функция для предсказания ответа на вопрос\n",
    "def get_response(question):\n",
    "    return model.predict([question])[0]\n",
    "\n",
    "# Тестирование модели\n",
    "while True:\n",
    "    user_input = input(\"Вы: \")\n",
    "    if user_input.lower() == 'выход':\n",
    "        break\n",
    "    response = get_response(user_input)\n",
    "    print(\"Бот:\", response)"
   ]
  },
  {
   "cell_type": "markdown",
   "id": "409ceb00-ba39-4f5a-b8ad-a52c14c5eb89",
   "metadata": {},
   "source": [
    "## Ответы на вопросы по тексту"
   ]
  },
  {
   "cell_type": "code",
   "execution_count": null,
   "id": "9eaf90c8-ebb8-4639-ba6b-caef613ad597",
   "metadata": {},
   "outputs": [],
   "source": [
    "import nltk\n",
    "from sklearn.feature_extraction.text import TfidfVectorizer\n",
    "from sklearn.naive_bayes import MultinomialNB\n",
    "from sklearn.pipeline import make_pipeline"
   ]
  },
  {
   "cell_type": "markdown",
   "id": "e760891d-9213-4875-9a38-2ef0ac66a4d3",
   "metadata": {},
   "source": [
    "### Обучающие данные"
   ]
  },
  {
   "cell_type": "code",
   "execution_count": null,
   "id": "2a5b101e-f81c-4431-83b2-615a3e2b5600",
   "metadata": {},
   "outputs": [],
   "source": [
    "training_text = \"\"\"\n",
    "Python - это высокоуровневый язык программирования общего назначения, \n",
    "который широко используется для разработки веб-приложений, научных \n",
    "вычислений, искусственного интеллекта и других сфер. Он имеет простой \n",
    "и понятный синтаксис, что делает его очень популярным среди начинающих \n",
    "и опытных программистов.\n",
    "\n",
    "NLP (Natural Language Processing) - это область искусственного интеллекта, \n",
    "которая занимается взаимодействием между компьютерами и естественными \n",
    "языками человека. Она включает в себя обработку текста, анализ смысла, \n",
    "разговорное распознавание речи и многое другое.\n",
    "\"\"\""
   ]
  },
  {
   "cell_type": "markdown",
   "id": "8c655ffe-9dc5-47af-a546-fa1882b6009c",
   "metadata": {},
   "source": [
    "### Обработка текста"
   ]
  },
  {
   "cell_type": "code",
   "execution_count": null,
   "id": "4e8c1bc8-2fb2-42fc-8149-100180bda9cd",
   "metadata": {},
   "outputs": [],
   "source": [
    "# Функция для предварительной обработки текста\n",
    "def preprocess_text(text):\n",
    "    # Разделение текста на предложения\n",
    "    sentences = nltk.sent_tokenize(text)\n",
    "    # Преобразование предложений в нижний регистр\n",
    "    sentences = [sentence.lower() for sentence in sentences]\n",
    "    return sentences\n",
    "\n",
    "# Получение предобработанных предложений\n",
    "sentences = preprocess_text(training_text)"
   ]
  },
  {
   "cell_type": "markdown",
   "id": "9f2a08a1-e5d3-4498-98dd-ea6e8c796873",
   "metadata": {},
   "source": [
    "### Обучение модели"
   ]
  },
  {
   "cell_type": "code",
   "execution_count": null,
   "id": "422cf24e-adc4-4e57-834b-3706ff539cac",
   "metadata": {},
   "outputs": [],
   "source": [
    "# Векторизация текста и обучение модели\n",
    "vectorizer = TfidfVectorizer()\n",
    "classifier = MultinomialNB()\n",
    "\n",
    "# Создание пайплайна\n",
    "model = make_pipeline(vectorizer, classifier)\n",
    "\n",
    "# Обучение модели\n",
    "model.fit(sentences, list(range(len(sentences))))"
   ]
  },
  {
   "cell_type": "markdown",
   "id": "4c188e39-df64-46e8-b977-d11c89586bee",
   "metadata": {},
   "source": [
    "### Использование модели"
   ]
  },
  {
   "cell_type": "code",
   "execution_count": null,
   "id": "25b8bc4f-3a4c-47b2-8ccc-8f090a574099",
   "metadata": {},
   "outputs": [],
   "source": [
    "# Функция для предсказания ответа на вопрос\n",
    "def get_response(question):\n",
    "    # Предобработка вопроса\n",
    "    question = preprocess_text(question)\n",
    "    # Предсказание ответа на основе вопроса\n",
    "    predicted_sentence_index = model.predict(question)[0]\n",
    "    return sentences[predicted_sentence_index]\n",
    "\n",
    "# Тестирование модели\n",
    "while True:\n",
    "    user_input = input(\"Вы: \")\n",
    "    if user_input.lower() == 'выход':\n",
    "        break\n",
    "    response = get_response(user_input)\n",
    "    print(\"Бот:\", response)"
   ]
  },
  {
   "cell_type": "code",
   "execution_count": null,
   "id": "28db7a6a-35b2-4116-95a5-79cbd3523207",
   "metadata": {},
   "outputs": [],
   "source": []
  }
 ],
 "metadata": {
  "kernelspec": {
   "display_name": "Python 3 (ipykernel)",
   "language": "python",
   "name": "python3"
  },
  "language_info": {
   "codemirror_mode": {
    "name": "ipython",
    "version": 3
   },
   "file_extension": ".py",
   "mimetype": "text/x-python",
   "name": "python",
   "nbconvert_exporter": "python",
   "pygments_lexer": "ipython3",
   "version": "3.8.19"
  }
 },
 "nbformat": 4,
 "nbformat_minor": 5
}
